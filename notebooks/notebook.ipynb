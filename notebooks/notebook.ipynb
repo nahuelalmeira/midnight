{
 "cells": [
  {
   "cell_type": "markdown",
   "metadata": {},
   "source": [
    "[![Open In Colab](https://colab.research.google.com/assets/colab-badge.svg)](https://colab.research.google.com/github/nahuelalmeira/midnight/blob/main/notebooks/notebook.ipynb)"
   ]
  },
  {
   "cell_type": "code",
   "execution_count": 7,
   "metadata": {},
   "outputs": [
    {
     "data": {
      "text/plain": [
       "[Player(name=Player2, stake=100000000, score=23),\n",
       " Player(name=Player1, stake=100000000, score=20),\n",
       " Player(name=Player3, stake=100000000, score=18)]"
      ]
     },
     "execution_count": 7,
     "metadata": {},
     "output_type": "execute_result"
    }
   ],
   "source": [
    "from midnight.main import Player\n",
    "\n",
    "player1 = Player(name=\"Player1\")\n",
    "player1.picked_dice = [1, 4, 6, 6, 2, 6]\n",
    "\n",
    "player2 = Player(name=\"Player2\")\n",
    "player2.picked_dice = [1, 4, 6, 6, 6, 5]\n",
    "\n",
    "player3 = Player(name=\"Player3\")\n",
    "player3.picked_dice = [1, 4, 6, 1, 6, 5]\n",
    "\n",
    "players = [player1, player2, player3]\n",
    "list(sorted(players, reverse=True))"
   ]
  },
  {
   "cell_type": "code",
   "execution_count": null,
   "metadata": {},
   "outputs": [],
   "source": []
  }
 ],
 "metadata": {
  "interpreter": {
   "hash": "0db4934f747e0063d98ee20b47d4f8a1f31c4179cc758487cc330c0c2ba6071b"
  },
  "kernelspec": {
   "display_name": "Python 3.9.7 64-bit ('midnight': conda)",
   "language": "python",
   "name": "python3"
  },
  "language_info": {
   "codemirror_mode": {
    "name": "ipython",
    "version": 3
   },
   "file_extension": ".py",
   "mimetype": "text/x-python",
   "name": "python",
   "nbconvert_exporter": "python",
   "pygments_lexer": "ipython3",
   "version": "3.9.7"
  },
  "orig_nbformat": 4
 },
 "nbformat": 4,
 "nbformat_minor": 2
}
