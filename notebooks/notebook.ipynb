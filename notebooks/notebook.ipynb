{
 "cells": [
  {
   "cell_type": "markdown",
   "metadata": {},
   "source": [
    "[![Open In Colab](https://colab.research.google.com/assets/colab-badge.svg)](https://colab.research.google.com/github/nahuelalmeira/midnight/blob/main/notebooks/notebook.ipynb)"
   ]
  },
  {
   "cell_type": "code",
   "execution_count": 1,
   "metadata": {},
   "outputs": [],
   "source": [
    "#!pip install --quiet git+https://github.com/nahuelalmeira/midnight"
   ]
  },
  {
   "cell_type": "markdown",
   "metadata": {},
   "source": [
    "### General Config"
   ]
  },
  {
   "cell_type": "markdown",
   "metadata": {},
   "source": [
    "Standard imports"
   ]
  },
  {
   "cell_type": "code",
   "execution_count": 2,
   "metadata": {},
   "outputs": [],
   "source": [
    "# Graphics\n",
    "import plotly.express as px\n",
    "import matplotlib\n",
    "import matplotlib.pyplot as plt\n",
    "import pandas as pd\n",
    "import seaborn as sns\n",
    "from IPython.display import display\n",
    "\n",
    "sns.set()\n",
    "sns.set_context(\"talk\")\n",
    "matplotlib.rcParams[\"figure.figsize\"] = (12, 8)"
   ]
  },
  {
   "cell_type": "markdown",
   "metadata": {},
   "source": [
    "Module imports"
   ]
  },
  {
   "cell_type": "code",
   "execution_count": 3,
   "metadata": {},
   "outputs": [],
   "source": [
    "from midnight.player import Player\n",
    "from midnight.game import Game\n",
    "from midnight.strategy import (\n",
    "    ConservativeStrategy,\n",
    "    MiddleStrategy,\n",
    "    AlwaysConservativeStrategy,\n",
    "    AlwaysMiddleStrategy,\n",
    ")"
   ]
  },
  {
   "cell_type": "markdown",
   "metadata": {},
   "source": [
    "Auxiliary functions"
   ]
  },
  {
   "cell_type": "code",
   "execution_count": null,
   "metadata": {},
   "outputs": [],
   "source": [
    "def compute_ccdf_dataframe(samples):\n",
    "    data = {}\n",
    "    for start_dice, sample in samples.items():\n",
    "        ccdf = (\n",
    "            sample.value_counts(normalize=True)\n",
    "            .sort_index(ascending=False)\n",
    "            .drop(0, errors=\"ignore\")\n",
    "            .cumsum()\n",
    "        )\n",
    "        data[str(start_dice)] = ccdf\n",
    "    df = pd.DataFrame(data)\n",
    "    df.index.name = \"Score\"\n",
    "    return df.melt(\n",
    "        value_name=\"Probability\", var_name=\"Dice selection\", ignore_index=False\n",
    "    ).reset_index()"
   ]
  },
  {
   "cell_type": "markdown",
   "metadata": {},
   "source": [
    "### Example"
   ]
  },
  {
   "cell_type": "markdown",
   "metadata": {},
   "source": [
    "The `.show_example` method allows the user to perform a simple simulation and visualize the decisions taken by the strategy."
   ]
  },
  {
   "cell_type": "code",
   "execution_count": 4,
   "metadata": {},
   "outputs": [
    {
     "data": {
      "text/html": [
       "<div>\n",
       "<style scoped>\n",
       "    .dataframe tbody tr th:only-of-type {\n",
       "        vertical-align: middle;\n",
       "    }\n",
       "\n",
       "    .dataframe tbody tr th {\n",
       "        vertical-align: top;\n",
       "    }\n",
       "\n",
       "    .dataframe thead th {\n",
       "        text-align: right;\n",
       "    }\n",
       "</style>\n",
       "<table border=\"1\" class=\"dataframe\">\n",
       "  <thead>\n",
       "    <tr style=\"text-align: right;\">\n",
       "      <th></th>\n",
       "      <th>Kept dice</th>\n",
       "      <th>Roll</th>\n",
       "      <th>New dice</th>\n",
       "    </tr>\n",
       "  </thead>\n",
       "  <tbody>\n",
       "    <tr>\n",
       "      <th>0</th>\n",
       "      <td>[]</td>\n",
       "      <td>[1, 6, 6, 3, 5, 2]</td>\n",
       "      <td>[1, 6]</td>\n",
       "    </tr>\n",
       "    <tr>\n",
       "      <th>1</th>\n",
       "      <td>[1, 6]</td>\n",
       "      <td>[1, 5, 4, 2]</td>\n",
       "      <td>[4]</td>\n",
       "    </tr>\n",
       "    <tr>\n",
       "      <th>2</th>\n",
       "      <td>[1, 6, 4]</td>\n",
       "      <td>[3, 6, 6]</td>\n",
       "      <td>[6, 6]</td>\n",
       "    </tr>\n",
       "    <tr>\n",
       "      <th>3</th>\n",
       "      <td>[1, 6, 4, 6, 6]</td>\n",
       "      <td>[4]</td>\n",
       "      <td>[4]</td>\n",
       "    </tr>\n",
       "  </tbody>\n",
       "</table>\n",
       "</div>"
      ],
      "text/plain": [
       "         Kept dice                Roll New dice\n",
       "0               []  [1, 6, 6, 3, 5, 2]   [1, 6]\n",
       "1           [1, 6]        [1, 5, 4, 2]      [4]\n",
       "2        [1, 6, 4]           [3, 6, 6]   [6, 6]\n",
       "3  [1, 6, 4, 6, 6]                 [4]      [4]"
      ]
     },
     "execution_count": 4,
     "metadata": {},
     "output_type": "execute_result"
    }
   ],
   "source": [
    "MiddleStrategy().show_example()"
   ]
  },
  {
   "cell_type": "markdown",
   "metadata": {},
   "source": [
    "The simulation can be started in the middle of a play, that is, when the player has already taken some dice."
   ]
  },
  {
   "cell_type": "code",
   "execution_count": 5,
   "metadata": {},
   "outputs": [
    {
     "data": {
      "text/html": [
       "<div>\n",
       "<style scoped>\n",
       "    .dataframe tbody tr th:only-of-type {\n",
       "        vertical-align: middle;\n",
       "    }\n",
       "\n",
       "    .dataframe tbody tr th {\n",
       "        vertical-align: top;\n",
       "    }\n",
       "\n",
       "    .dataframe thead th {\n",
       "        text-align: right;\n",
       "    }\n",
       "</style>\n",
       "<table border=\"1\" class=\"dataframe\">\n",
       "  <thead>\n",
       "    <tr style=\"text-align: right;\">\n",
       "      <th></th>\n",
       "      <th>Kept dice</th>\n",
       "      <th>Roll</th>\n",
       "      <th>New dice</th>\n",
       "    </tr>\n",
       "  </thead>\n",
       "  <tbody>\n",
       "    <tr>\n",
       "      <th>0</th>\n",
       "      <td>[6, 4]</td>\n",
       "      <td>[1, 3, 4, 3]</td>\n",
       "      <td>[1]</td>\n",
       "    </tr>\n",
       "    <tr>\n",
       "      <th>1</th>\n",
       "      <td>[6, 4, 1]</td>\n",
       "      <td>[4, 4, 5]</td>\n",
       "      <td>[5]</td>\n",
       "    </tr>\n",
       "    <tr>\n",
       "      <th>2</th>\n",
       "      <td>[6, 4, 1, 5]</td>\n",
       "      <td>[5, 5]</td>\n",
       "      <td>[5, 5]</td>\n",
       "    </tr>\n",
       "  </tbody>\n",
       "</table>\n",
       "</div>"
      ],
      "text/plain": [
       "      Kept dice          Roll New dice\n",
       "0        [6, 4]  [1, 3, 4, 3]      [1]\n",
       "1     [6, 4, 1]     [4, 4, 5]      [5]\n",
       "2  [6, 4, 1, 5]        [5, 5]   [5, 5]"
      ]
     },
     "execution_count": 5,
     "metadata": {},
     "output_type": "execute_result"
    }
   ],
   "source": [
    "MiddleStrategy().show_example(start_dice=[6, 4])"
   ]
  },
  {
   "cell_type": "markdown",
   "metadata": {},
   "source": [
    "Also, the first roll can be also defined."
   ]
  },
  {
   "cell_type": "code",
   "execution_count": 6,
   "metadata": {},
   "outputs": [
    {
     "data": {
      "text/html": [
       "<div>\n",
       "<style scoped>\n",
       "    .dataframe tbody tr th:only-of-type {\n",
       "        vertical-align: middle;\n",
       "    }\n",
       "\n",
       "    .dataframe tbody tr th {\n",
       "        vertical-align: top;\n",
       "    }\n",
       "\n",
       "    .dataframe thead th {\n",
       "        text-align: right;\n",
       "    }\n",
       "</style>\n",
       "<table border=\"1\" class=\"dataframe\">\n",
       "  <thead>\n",
       "    <tr style=\"text-align: right;\">\n",
       "      <th></th>\n",
       "      <th>Kept dice</th>\n",
       "      <th>Roll</th>\n",
       "      <th>New dice</th>\n",
       "    </tr>\n",
       "  </thead>\n",
       "  <tbody>\n",
       "    <tr>\n",
       "      <th>0</th>\n",
       "      <td>[]</td>\n",
       "      <td>[1, 2, 3, 4, 4, 6]</td>\n",
       "      <td>[1, 4, 6]</td>\n",
       "    </tr>\n",
       "    <tr>\n",
       "      <th>1</th>\n",
       "      <td>[1, 4, 6]</td>\n",
       "      <td>[3, 5, 5]</td>\n",
       "      <td>[5]</td>\n",
       "    </tr>\n",
       "    <tr>\n",
       "      <th>2</th>\n",
       "      <td>[1, 4, 6, 5]</td>\n",
       "      <td>[5, 4]</td>\n",
       "      <td>[5, 4]</td>\n",
       "    </tr>\n",
       "  </tbody>\n",
       "</table>\n",
       "</div>"
      ],
      "text/plain": [
       "      Kept dice                Roll   New dice\n",
       "0            []  [1, 2, 3, 4, 4, 6]  [1, 4, 6]\n",
       "1     [1, 4, 6]           [3, 5, 5]        [5]\n",
       "2  [1, 4, 6, 5]              [5, 4]     [5, 4]"
      ]
     },
     "execution_count": 6,
     "metadata": {},
     "output_type": "execute_result"
    }
   ],
   "source": [
    "MiddleStrategy().show_example(start_roll=[1, 2, 3, 4, 4, 6])"
   ]
  },
  {
   "cell_type": "markdown",
   "metadata": {},
   "source": [
    "Finaly, both parameters can be combined."
   ]
  },
  {
   "cell_type": "code",
   "execution_count": 7,
   "metadata": {},
   "outputs": [
    {
     "data": {
      "text/html": [
       "<div>\n",
       "<style scoped>\n",
       "    .dataframe tbody tr th:only-of-type {\n",
       "        vertical-align: middle;\n",
       "    }\n",
       "\n",
       "    .dataframe tbody tr th {\n",
       "        vertical-align: top;\n",
       "    }\n",
       "\n",
       "    .dataframe thead th {\n",
       "        text-align: right;\n",
       "    }\n",
       "</style>\n",
       "<table border=\"1\" class=\"dataframe\">\n",
       "  <thead>\n",
       "    <tr style=\"text-align: right;\">\n",
       "      <th></th>\n",
       "      <th>Kept dice</th>\n",
       "      <th>Roll</th>\n",
       "      <th>New dice</th>\n",
       "    </tr>\n",
       "  </thead>\n",
       "  <tbody>\n",
       "    <tr>\n",
       "      <th>0</th>\n",
       "      <td>[6, 4]</td>\n",
       "      <td>[1, 2, 3, 4]</td>\n",
       "      <td>[1]</td>\n",
       "    </tr>\n",
       "    <tr>\n",
       "      <th>1</th>\n",
       "      <td>[6, 4, 1]</td>\n",
       "      <td>[4, 6, 3]</td>\n",
       "      <td>[6]</td>\n",
       "    </tr>\n",
       "    <tr>\n",
       "      <th>2</th>\n",
       "      <td>[6, 4, 1, 6]</td>\n",
       "      <td>[4, 3]</td>\n",
       "      <td>[4]</td>\n",
       "    </tr>\n",
       "    <tr>\n",
       "      <th>3</th>\n",
       "      <td>[6, 4, 1, 6, 4]</td>\n",
       "      <td>[3]</td>\n",
       "      <td>[3]</td>\n",
       "    </tr>\n",
       "  </tbody>\n",
       "</table>\n",
       "</div>"
      ],
      "text/plain": [
       "         Kept dice          Roll New dice\n",
       "0           [6, 4]  [1, 2, 3, 4]      [1]\n",
       "1        [6, 4, 1]     [4, 6, 3]      [6]\n",
       "2     [6, 4, 1, 6]        [4, 3]      [4]\n",
       "3  [6, 4, 1, 6, 4]           [3]      [3]"
      ]
     },
     "execution_count": 7,
     "metadata": {},
     "output_type": "execute_result"
    }
   ],
   "source": [
    "MiddleStrategy().show_example(start_dice=[6, 4], start_roll=[1, 2, 3, 4])"
   ]
  },
  {
   "cell_type": "markdown",
   "metadata": {},
   "source": [
    "Note that the length of start_dice plus the length of start_roll must be equal to 6, otherwise the method will raise an exception."
   ]
  },
  {
   "cell_type": "code",
   "execution_count": 8,
   "metadata": {},
   "outputs": [],
   "source": [
    "# Uncomment the next line to see the exception message.\n",
    "\n",
    "# MiddleStrategy().show_example(start_dice=[6, 4], start_roll=[1, 2, 4])"
   ]
  },
  {
   "cell_type": "markdown",
   "metadata": {},
   "source": [
    "### Comparison of strategies"
   ]
  },
  {
   "cell_type": "markdown",
   "metadata": {},
   "source": [
    "Basic strategies can be compared by sampling a large number of plays and comparing the scores."
   ]
  },
  {
   "cell_type": "code",
   "execution_count": 9,
   "metadata": {},
   "outputs": [],
   "source": [
    "nsamples = 10000\n",
    "sample_conservative = pd.Series(ConservativeStrategy.sample(nsamples))\n",
    "sample_middle = pd.Series(MiddleStrategy.sample(nsamples))\n",
    "samples = {\"Conservative\": sample_conservative, \"Middle\": sample_middle}"
   ]
  },
  {
   "cell_type": "markdown",
   "metadata": {},
   "source": [
    "One way of performing the comparison is to look at the score probability distribution $p(x)$."
   ]
  },
  {
   "cell_type": "code",
   "execution_count": 10,
   "metadata": {},
   "outputs": [
    {
     "data": {
      "image/png": "[encoded data removed]",
      "text/plain": [
       "<Figure size 864x576 with 1 Axes>"
      ]
     },
     "metadata": {},
     "output_type": "display_data"
    }
   ],
   "source": [
    "fig, ax = plt.subplots()\n",
    "ax.set_xlabel(\"Score\")\n",
    "ax.set_ylabel(\"Probability p(x)\")\n",
    "ax.hist(samples.values(), bins=range(0, 25), density=True, label=list(samples.keys()))\n",
    "plt.legend()\n",
    "plt.show()"
   ]
  },
  {
   "cell_type": "markdown",
   "metadata": {},
   "source": [
    "Other way, perhaps more intuitive, is to look at the score complementary cumulative distribution, defined as\n",
    "\n",
    "$$\n",
    "P(x) = p(X\\geq x) = \\text{Probability of scoring } x \\text{ or more.}\n",
    "$$\n",
    "\n",
    "In other words, $P(x)$ gives the tie or win probability against each score."
   ]
  },
  {
   "cell_type": "code",
   "execution_count": 11,
   "metadata": {},
   "outputs": [
    {
     "data": {
      "image/png": "[encoded data removed]",
      "text/plain": [
       "<Figure size 864x576 with 1 Axes>"
      ]
     },
     "metadata": {},
     "output_type": "display_data"
    }
   ],
   "source": [
    "fig, ax = plt.subplots()\n",
    "for name, sample in samples.items():\n",
    "    (\n",
    "        sample.value_counts(normalize=True)\n",
    "        .sort_index(ascending=False)\n",
    "        .drop(0)\n",
    "        .cumsum()\n",
    "        .plot(marker=\"o\", xlabel=\"Score\", ylabel=\"Tie or win probability P(x)\", label=name, ax=ax)\n",
    "    )\n",
    "ax.legend()\n",
    "plt.show()"
   ]
  },
  {
   "cell_type": "markdown",
   "metadata": {},
   "source": [
    "### Full game simulation"
   ]
  },
  {
   "cell_type": "code",
   "execution_count": 12,
   "metadata": {},
   "outputs": [
    {
     "name": "stdout",
     "output_type": "stream",
     "text": [
      "-----------------\n",
      "Game settings\n",
      "Number of players: 2\n",
      "Number of rounds: 10000\n",
      "Initial stake: 1000\n",
      "-----------------\n",
      "\n",
      "-----------------\n",
      "Game stats\n"
     ]
    },
    {
     "data": {
      "text/html": [
       "<div>\n",
       "<style scoped>\n",
       "    .dataframe tbody tr th:only-of-type {\n",
       "        vertical-align: middle;\n",
       "    }\n",
       "\n",
       "    .dataframe tbody tr th {\n",
       "        vertical-align: top;\n",
       "    }\n",
       "\n",
       "    .dataframe thead th {\n",
       "        text-align: right;\n",
       "    }\n",
       "</style>\n",
       "<table border=\"1\" class=\"dataframe\">\n",
       "  <thead>\n",
       "    <tr style=\"text-align: right;\">\n",
       "      <th></th>\n",
       "      <th>ROUND</th>\n",
       "      <th>POT</th>\n",
       "      <th>WINNER</th>\n",
       "      <th>SCORES</th>\n",
       "    </tr>\n",
       "  </thead>\n",
       "  <tbody>\n",
       "    <tr>\n",
       "      <th>0</th>\n",
       "      <td>0</td>\n",
       "      <td>2</td>\n",
       "      <td>Player2</td>\n",
       "      <td>[19, 22]</td>\n",
       "    </tr>\n",
       "    <tr>\n",
       "      <th>1</th>\n",
       "      <td>1</td>\n",
       "      <td>2</td>\n",
       "      <td>Player1</td>\n",
       "      <td>[20, 18]</td>\n",
       "    </tr>\n",
       "    <tr>\n",
       "      <th>2</th>\n",
       "      <td>2</td>\n",
       "      <td>3</td>\n",
       "      <td>Player1</td>\n",
       "      <td>[17, 0]</td>\n",
       "    </tr>\n",
       "    <tr>\n",
       "      <th>3</th>\n",
       "      <td>3</td>\n",
       "      <td>2</td>\n",
       "      <td>Tie</td>\n",
       "      <td>[22, 22]</td>\n",
       "    </tr>\n",
       "    <tr>\n",
       "      <th>4</th>\n",
       "      <td>4</td>\n",
       "      <td>4</td>\n",
       "      <td>Player2</td>\n",
       "      <td>[19, 20]</td>\n",
       "    </tr>\n",
       "    <tr>\n",
       "      <th>5</th>\n",
       "      <td>5</td>\n",
       "      <td>2</td>\n",
       "      <td>Player2</td>\n",
       "      <td>[21, 24]</td>\n",
       "    </tr>\n",
       "    <tr>\n",
       "      <th>6</th>\n",
       "      <td>6</td>\n",
       "      <td>2</td>\n",
       "      <td>Player2</td>\n",
       "      <td>[19, 23]</td>\n",
       "    </tr>\n",
       "    <tr>\n",
       "      <th>7</th>\n",
       "      <td>7</td>\n",
       "      <td>2</td>\n",
       "      <td>Player2</td>\n",
       "      <td>[18, 19]</td>\n",
       "    </tr>\n",
       "    <tr>\n",
       "      <th>8</th>\n",
       "      <td>8</td>\n",
       "      <td>3</td>\n",
       "      <td>Player1</td>\n",
       "      <td>[20, 0]</td>\n",
       "    </tr>\n",
       "    <tr>\n",
       "      <th>9</th>\n",
       "      <td>9</td>\n",
       "      <td>2</td>\n",
       "      <td>Player1</td>\n",
       "      <td>[19, 15]</td>\n",
       "    </tr>\n",
       "  </tbody>\n",
       "</table>\n",
       "</div>"
      ],
      "text/plain": [
       "   ROUND  POT   WINNER    SCORES\n",
       "0      0    2  Player2  [19, 22]\n",
       "1      1    2  Player1  [20, 18]\n",
       "2      2    3  Player1   [17, 0]\n",
       "3      3    2      Tie  [22, 22]\n",
       "4      4    4  Player2  [19, 20]\n",
       "5      5    2  Player2  [21, 24]\n",
       "6      6    2  Player2  [19, 23]\n",
       "7      7    2  Player2  [18, 19]\n",
       "8      8    3  Player1   [20, 0]\n",
       "9      9    2  Player1  [19, 15]"
      ]
     },
     "metadata": {},
     "output_type": "display_data"
    },
    {
     "name": "stdout",
     "output_type": "stream",
     "text": [
      "-----------------\n",
      "\n",
      "Final relative stakes: [-2083, 2083]\n",
      "\n",
      "-----------------\n",
      "Scores\n"
     ]
    },
    {
     "data": {
      "text/html": [
       "<div>\n",
       "<style scoped>\n",
       "    .dataframe tbody tr th:only-of-type {\n",
       "        vertical-align: middle;\n",
       "    }\n",
       "\n",
       "    .dataframe tbody tr th {\n",
       "        vertical-align: top;\n",
       "    }\n",
       "\n",
       "    .dataframe thead th {\n",
       "        text-align: right;\n",
       "    }\n",
       "</style>\n",
       "<table border=\"1\" class=\"dataframe\">\n",
       "  <thead>\n",
       "    <tr style=\"text-align: right;\">\n",
       "      <th></th>\n",
       "      <th>Player1</th>\n",
       "      <th>Player2</th>\n",
       "    </tr>\n",
       "  </thead>\n",
       "  <tbody>\n",
       "    <tr>\n",
       "      <th>0</th>\n",
       "      <td>19</td>\n",
       "      <td>22</td>\n",
       "    </tr>\n",
       "    <tr>\n",
       "      <th>1</th>\n",
       "      <td>20</td>\n",
       "      <td>18</td>\n",
       "    </tr>\n",
       "    <tr>\n",
       "      <th>2</th>\n",
       "      <td>17</td>\n",
       "      <td>0</td>\n",
       "    </tr>\n",
       "    <tr>\n",
       "      <th>3</th>\n",
       "      <td>22</td>\n",
       "      <td>22</td>\n",
       "    </tr>\n",
       "    <tr>\n",
       "      <th>4</th>\n",
       "      <td>19</td>\n",
       "      <td>20</td>\n",
       "    </tr>\n",
       "  </tbody>\n",
       "</table>\n",
       "</div>"
      ],
      "text/plain": [
       "   Player1  Player2\n",
       "0       19       22\n",
       "1       20       18\n",
       "2       17        0\n",
       "3       22       22\n",
       "4       19       20"
      ]
     },
     "metadata": {},
     "output_type": "display_data"
    },
    {
     "name": "stdout",
     "output_type": "stream",
     "text": [
      "-----------------\n",
      "\n",
      "-----------------\n",
      "Qualification rate per player:\n"
     ]
    },
    {
     "data": {
      "text/plain": [
       "Player1    0.9118\n",
       "Player2    0.9071\n",
       "dtype: float64"
      ]
     },
     "metadata": {},
     "output_type": "display_data"
    },
    {
     "name": "stdout",
     "output_type": "stream",
     "text": [
      "-----------------\n",
      "\n",
      "-----------------\n",
      "Win rate per player:\n"
     ]
    },
    {
     "data": {
      "text/plain": [
       "Player2    0.5506\n",
       "Player1    0.3562\n",
       "Tie        0.0932\n",
       "Name: WINNER, dtype: float64"
      ]
     },
     "metadata": {},
     "output_type": "display_data"
    },
    {
     "name": "stdout",
     "output_type": "stream",
     "text": [
      "-----------------\n",
      "\n"
     ]
    }
   ],
   "source": [
    "n_rounds = 10000\n",
    "n_players = 2\n",
    "initial_stake = 1000\n",
    "\n",
    "print(\"-----------------\")\n",
    "print(\"Game settings\")\n",
    "print(f\"Number of players: {n_players}\")\n",
    "print(f\"Number of rounds: {n_rounds}\")\n",
    "print(f\"Initial stake: {initial_stake}\")\n",
    "print(\"-----------------\")\n",
    "print()\n",
    "\n",
    "Player.reset_counter()\n",
    "game = Game(n_rounds=n_rounds)\n",
    "player1 = Player(\n",
    "    strategy=AlwaysConservativeStrategy(), initial_stake=initial_stake\n",
    ")\n",
    "game.add_player(player1)\n",
    "player2 = Player(\n",
    "    strategy=AlwaysMiddleStrategy(), initial_stake=initial_stake\n",
    ")\n",
    "game.add_player(player2)\n",
    "\n",
    "# Play game\n",
    "game.play()\n",
    "\n",
    "print(\"-----------------\")\n",
    "print(\"Game stats\")\n",
    "stats = game.get_game_stats()\n",
    "display(stats.head(10))\n",
    "print(\"-----------------\")\n",
    "print()\n",
    "print(f\"Final relative stakes: {game.relative_stakes}\")\n",
    "print()\n",
    "\n",
    "print(\"-----------------\")\n",
    "print(\"Scores\")\n",
    "scores = game.get_all_scores()\n",
    "display(scores.head())\n",
    "print(\"-----------------\")\n",
    "print()\n",
    "\n",
    "print(\"-----------------\")\n",
    "print(\"Qualification rate per player:\")\n",
    "display((scores > 0).mean())\n",
    "print(\"-----------------\")\n",
    "print()\n",
    "\n",
    "print(\"-----------------\")\n",
    "print(\"Win rate per player:\")\n",
    "display(stats[\"WINNER\"].value_counts(normalize=True))\n",
    "print(\"-----------------\")\n",
    "print()\n"
   ]
  },
  {
   "cell_type": "code",
   "execution_count": 13,
   "metadata": {},
   "outputs": [],
   "source": [
    "nsamples = int(1e4)\n",
    "samples = {\"Middle\": {}}"
   ]
  },
  {
   "cell_type": "code",
   "execution_count": 14,
   "metadata": {},
   "outputs": [
    {
     "name": "stdout",
     "output_type": "stream",
     "text": [
      "0 (6,)\n",
      "1 (6, 4)\n",
      "2 (6, 4, 1)\n",
      "3 (6, 6)\n",
      "4 (6, 6, 4)\n",
      "5 (6, 6, 6)\n",
      "6 (6, 6, 1)\n",
      "7 (6, 1)\n",
      "8 (6, 6, 6, 1)\n",
      "9 (4,)\n"
     ]
    }
   ],
   "source": [
    "start_dice_cases = [\n",
    "    (6,), (6, 4), (6, 4, 1), (6, 6), (6, 6, 4),\n",
    "    (6, 6, 6), (6, 6, 1), (6, 1), (6, 6, 6, 1), (4,)\n",
    "]\n",
    "for i, start_dice in enumerate(start_dice_cases):\n",
    "    print(i, start_dice)\n",
    "    if start_dice in samples[\"Middle\"]:\n",
    "        continue\n",
    "    samples[\"Middle\"][start_dice] = pd.Series(\n",
    "        MiddleStrategy.sample(nsamples, start_dice=start_dice)\n",
    "    )"
   ]
  },
  {
   "cell_type": "code",
   "execution_count": 66,
   "metadata": {},
   "outputs": [
    {
     "data": {
      "application/vnd.plotly.v1+json": {
       "config": {
        "plotlyServerURL": "https://plot.ly"
       },
       "data": [
        {
         "hovertemplate": "Dice selection=(6,)<br>Score=%{x}<br>Probability=%{y}<extra></extra>",
         "legendgroup": "(6,)",
         "line": {
          "color": "#636efa",
          "dash": "solid"
         },
         "marker": {
          "symbol": "circle"
         },
         "mode": "markers+lines",
         "name": "(6,)",
         "orientation": "v",
         "showlegend": true,
         "type": "scatter",
         "x": [
          8,
          9,
          10,
          11,
          12,
          13,
          14,
          15,
          16,
          17,
          18,
          19,
          20,
          21,
          22,
          23,
          24
         ],
         "xaxis": "x",
         "y": [
          null,
          0.8156000000000002,
          0.8144000000000002,
          0.8125000000000002,
          0.8098000000000002,
          0.8057000000000002,
          0.7930000000000001,
          0.7700000000000001,
          0.7421000000000001,
          0.7019000000000001,
          0.6418,
          0.5564,
          0.4475,
          0.3451,
          0.22240000000000001,
          0.10740000000000001,
          0.0311
         ],
         "yaxis": "y"
        },
        {
         "hovertemplate": "Dice selection=(6, 4)<br>Score=%{x}<br>Probability=%{y}<extra></extra>",
         "legendgroup": "(6, 4)",
         "line": {
          "color": "#EF553B",
          "dash": "solid"
         },
         "marker": {
          "symbol": "circle"
         },
         "mode": "markers+lines",
         "name": "(6, 4)",
         "orientation": "v",
         "showlegend": true,
         "type": "scatter",
         "x": [
          8,
          9,
          10,
          11,
          12,
          13,
          14,
          15,
          16,
          17,
          18,
          19,
          20,
          21,
          22,
          23,
          24
         ],
         "xaxis": "x",
         "y": [
          null,
          null,
          null,
          0.8346999999999999,
          0.8344999999999999,
          0.8335999999999999,
          0.8308999999999999,
          0.8235999999999999,
          0.8049999999999999,
          0.7777,
          0.7339,
          0.6532,
          0.5546,
          0.44730000000000003,
          0.29290000000000005,
          0.1403,
          0.0396
         ],
         "yaxis": "y"
        },
        {
         "hovertemplate": "Dice selection=(6, 4, 1)<br>Score=%{x}<br>Probability=%{y}<extra></extra>",
         "legendgroup": "(6, 4, 1)",
         "line": {
          "color": "#00cc96",
          "dash": "solid"
         },
         "marker": {
          "symbol": "circle"
         },
         "mode": "markers+lines",
         "name": "(6, 4, 1)",
         "orientation": "v",
         "showlegend": true,
         "type": "scatter",
         "x": [
          8,
          9,
          10,
          11,
          12,
          13,
          14,
          15,
          16,
          17,
          18,
          19,
          20,
          21,
          22,
          23,
          24
         ],
         "xaxis": "x",
         "y": [
          null,
          null,
          0.9999999999999999,
          0.9995999999999999,
          0.9985999999999999,
          0.9952,
          0.984,
          0.9618,
          0.921,
          0.86,
          0.7729,
          0.6574,
          0.5255,
          0.3826,
          0.2239,
          0.0938,
          0.0228
         ],
         "yaxis": "y"
        },
        {
         "hovertemplate": "Dice selection=(6, 6)<br>Score=%{x}<br>Probability=%{y}<extra></extra>",
         "legendgroup": "(6, 6)",
         "line": {
          "color": "#ab63fa",
          "dash": "solid"
         },
         "marker": {
          "symbol": "circle"
         },
         "mode": "markers+lines",
         "name": "(6, 6)",
         "orientation": "v",
         "showlegend": true,
         "type": "scatter",
         "x": [
          8,
          9,
          10,
          11,
          12,
          13,
          14,
          15,
          16,
          17,
          18,
          19,
          20,
          21,
          22,
          23,
          24
         ],
         "xaxis": "x",
         "y": [
          null,
          null,
          null,
          null,
          null,
          null,
          0.6398999999999999,
          0.6325999999999999,
          0.6251,
          0.6128,
          0.5925,
          0.5439,
          0.47200000000000003,
          0.3991,
          0.3024,
          0.1765,
          0.0656
         ],
         "yaxis": "y"
        },
        {
         "hovertemplate": "Dice selection=(6, 6, 4)<br>Score=%{x}<br>Probability=%{y}<extra></extra>",
         "legendgroup": "(6, 6, 4)",
         "line": {
          "color": "#FFA15A",
          "dash": "solid"
         },
         "marker": {
          "symbol": "circle"
         },
         "mode": "markers+lines",
         "name": "(6, 6, 4)",
         "orientation": "v",
         "showlegend": true,
         "type": "scatter",
         "x": [
          8,
          9,
          10,
          11,
          12,
          13,
          14,
          15,
          16,
          17,
          18,
          19,
          20,
          21,
          22,
          23,
          24
         ],
         "xaxis": "x",
         "y": [
          null,
          null,
          null,
          null,
          null,
          null,
          0.6722,
          0.6716,
          0.6684,
          0.6602,
          0.6444,
          0.6067,
          0.542,
          0.4685,
          0.3447,
          0.1941,
          0.0694
         ],
         "yaxis": "y"
        },
        {
         "hovertemplate": "Dice selection=(6, 6, 6)<br>Score=%{x}<br>Probability=%{y}<extra></extra>",
         "legendgroup": "(6, 6, 6)",
         "line": {
          "color": "#19d3f3",
          "dash": "solid"
         },
         "marker": {
          "symbol": "circle"
         },
         "mode": "markers+lines",
         "name": "(6, 6, 6)",
         "orientation": "v",
         "showlegend": true,
         "type": "scatter",
         "x": [
          8,
          9,
          10,
          11,
          12,
          13,
          14,
          15,
          16,
          17,
          18,
          19,
          20,
          21,
          22,
          23,
          24
         ],
         "xaxis": "x",
         "y": [
          null,
          null,
          null,
          null,
          null,
          null,
          null,
          null,
          null,
          null,
          null,
          0.3894,
          0.35050000000000003,
          0.3204,
          0.2841,
          0.2126,
          0.1092
         ],
         "yaxis": "y"
        },
        {
         "hovertemplate": "Dice selection=(6, 6, 1)<br>Score=%{x}<br>Probability=%{y}<extra></extra>",
         "legendgroup": "(6, 6, 1)",
         "line": {
          "color": "#FF6692",
          "dash": "solid"
         },
         "marker": {
          "symbol": "circle"
         },
         "mode": "markers+lines",
         "name": "(6, 6, 1)",
         "orientation": "v",
         "showlegend": true,
         "type": "scatter",
         "x": [
          8,
          9,
          10,
          11,
          12,
          13,
          14,
          15,
          16,
          17,
          18,
          19,
          20,
          21,
          22,
          23,
          24
         ],
         "xaxis": "x",
         "y": [
          null,
          null,
          null,
          null,
          null,
          null,
          0.6648999999999999,
          0.6644,
          0.6605,
          0.649,
          0.6333,
          0.5867,
          0.5092,
          0.426,
          0.3177,
          0.196,
          0.0721
         ],
         "yaxis": "y"
        },
        {
         "hovertemplate": "Dice selection=(6, 1)<br>Score=%{x}<br>Probability=%{y}<extra></extra>",
         "legendgroup": "(6, 1)",
         "line": {
          "color": "#B6E880",
          "dash": "solid"
         },
         "marker": {
          "symbol": "circle"
         },
         "mode": "markers+lines",
         "name": "(6, 1)",
         "orientation": "v",
         "showlegend": true,
         "type": "scatter",
         "x": [
          8,
          9,
          10,
          11,
          12,
          13,
          14,
          15,
          16,
          17,
          18,
          19,
          20,
          21,
          22,
          23,
          24
         ],
         "xaxis": "x",
         "y": [
          null,
          null,
          0.8454,
          0.8452000000000001,
          0.8447000000000001,
          0.8429000000000001,
          0.8381000000000001,
          0.8281000000000001,
          0.8083,
          0.7727,
          0.7225,
          0.6369,
          0.5366,
          0.4211,
          0.28659999999999997,
          0.148,
          0.0419
         ],
         "yaxis": "y"
        },
        {
         "hovertemplate": "Dice selection=(6, 6, 6, 1)<br>Score=%{x}<br>Probability=%{y}<extra></extra>",
         "legendgroup": "(6, 6, 6, 1)",
         "line": {
          "color": "#FF97FF",
          "dash": "solid"
         },
         "marker": {
          "symbol": "circle"
         },
         "mode": "markers+lines",
         "name": "(6, 6, 6, 1)",
         "orientation": "v",
         "showlegend": true,
         "type": "scatter",
         "x": [
          8,
          9,
          10,
          11,
          12,
          13,
          14,
          15,
          16,
          17,
          18,
          19,
          20,
          21,
          22,
          23,
          24
         ],
         "xaxis": "x",
         "y": [
          null,
          null,
          null,
          null,
          null,
          null,
          null,
          null,
          null,
          null,
          null,
          0.42469999999999997,
          0.39359999999999995,
          0.348,
          0.29969999999999997,
          0.243,
          0.1223
         ],
         "yaxis": "y"
        },
        {
         "hovertemplate": "Dice selection=(4,)<br>Score=%{x}<br>Probability=%{y}<extra></extra>",
         "legendgroup": "(4,)",
         "line": {
          "color": "#FECB52",
          "dash": "solid"
         },
         "marker": {
          "symbol": "circle"
         },
         "mode": "markers+lines",
         "name": "(4,)",
         "orientation": "v",
         "showlegend": true,
         "type": "scatter",
         "x": [
          8,
          9,
          10,
          11,
          12,
          13,
          14,
          15,
          16,
          17,
          18,
          19,
          20,
          21,
          22,
          23,
          24
         ],
         "xaxis": "x",
         "y": [
          0.9357,
          0.9356,
          0.9355,
          0.9348,
          0.9331999999999999,
          0.9282999999999999,
          0.9178999999999999,
          0.8966,
          0.8625999999999999,
          0.8118,
          0.7413,
          0.6394,
          0.5166,
          0.3868,
          0.22749999999999998,
          0.0976,
          0.0262
         ],
         "yaxis": "y"
        }
       ],
       "layout": {
        "height": 500,
        "legend": {
         "title": {
          "text": "Dice selection"
         },
         "tracegroupgap": 0
        },
        "margin": {
         "t": 60
        },
        "template": {
         "data": {
          "bar": [
           {
            "error_x": {
             "color": "#2a3f5f"
            },
            "error_y": {
             "color": "#2a3f5f"
            },
            "marker": {
             "line": {
              "color": "#E5ECF6",
              "width": 0.5
             },
             "pattern": {
              "fillmode": "overlay",
              "size": 10,
              "solidity": 0.2
             }
            },
            "type": "bar"
           }
          ],
          "barpolar": [
           {
            "marker": {
             "line": {
              "color": "#E5ECF6",
              "width": 0.5
             },
             "pattern": {
              "fillmode": "overlay",
              "size": 10,
              "solidity": 0.2
             }
            },
            "type": "barpolar"
           }
          ],
          "carpet": [
           {
            "aaxis": {
             "endlinecolor": "#2a3f5f",
             "gridcolor": "white",
             "linecolor": "white",
             "minorgridcolor": "white",
             "startlinecolor": "#2a3f5f"
            },
            "baxis": {
             "endlinecolor": "#2a3f5f",
             "gridcolor": "white",
             "linecolor": "white",
             "minorgridcolor": "white",
             "startlinecolor": "#2a3f5f"
            },
            "type": "carpet"
           }
          ],
          "choropleth": [
           {
            "colorbar": {
             "outlinewidth": 0,
             "ticks": ""
            },
            "type": "choropleth"
           }
          ],
          "contour": [
           {
            "colorbar": {
             "outlinewidth": 0,
             "ticks": ""
            },
            "colorscale": [
             [
              0,
              "#0d0887"
             ],
             [
              0.1111111111111111,
              "#46039f"
             ],
             [
              0.2222222222222222,
              "#7201a8"
             ],
             [
              0.3333333333333333,
              "#9c179e"
             ],
             [
              0.4444444444444444,
              "#bd3786"
             ],
             [
              0.5555555555555556,
              "#d8576b"
             ],
             [
              0.6666666666666666,
              "#ed7953"
             ],
             [
              0.7777777777777778,
              "#fb9f3a"
             ],
             [
              0.8888888888888888,
              "#fdca26"
             ],
             [
              1,
              "#f0f921"
             ]
            ],
            "type": "contour"
           }
          ],
          "contourcarpet": [
           {
            "colorbar": {
             "outlinewidth": 0,
             "ticks": ""
            },
            "type": "contourcarpet"
           }
          ],
          "heatmap": [
           {
            "colorbar": {
             "outlinewidth": 0,
             "ticks": ""
            },
            "colorscale": [
             [
              0,
              "#0d0887"
             ],
             [
              0.1111111111111111,
              "#46039f"
             ],
             [
              0.2222222222222222,
              "#7201a8"
             ],
             [
              0.3333333333333333,
              "#9c179e"
             ],
             [
              0.4444444444444444,
              "#bd3786"
             ],
             [
              0.5555555555555556,
              "#d8576b"
             ],
             [
              0.6666666666666666,
              "#ed7953"
             ],
             [
              0.7777777777777778,
              "#fb9f3a"
             ],
             [
              0.8888888888888888,
              "#fdca26"
             ],
             [
              1,
              "#f0f921"
             ]
            ],
            "type": "heatmap"
           }
          ],
          "heatmapgl": [
           {
            "colorbar": {
             "outlinewidth": 0,
             "ticks": ""
            },
            "colorscale": [
             [
              0,
              "#0d0887"
             ],
             [
              0.1111111111111111,
              "#46039f"
             ],
             [
              0.2222222222222222,
              "#7201a8"
             ],
             [
              0.3333333333333333,
              "#9c179e"
             ],
             [
              0.4444444444444444,
              "#bd3786"
             ],
             [
              0.5555555555555556,
              "#d8576b"
             ],
             [
              0.6666666666666666,
              "#ed7953"
             ],
             [
              0.7777777777777778,
              "#fb9f3a"
             ],
             [
              0.8888888888888888,
              "#fdca26"
             ],
             [
              1,
              "#f0f921"
             ]
            ],
            "type": "heatmapgl"
           }
          ],
          "histogram": [
           {
            "marker": {
             "pattern": {
              "fillmode": "overlay",
              "size": 10,
              "solidity": 0.2
             }
            },
            "type": "histogram"
           }
          ],
          "histogram2d": [
           {
            "colorbar": {
             "outlinewidth": 0,
             "ticks": ""
            },
            "colorscale": [
             [
              0,
              "#0d0887"
             ],
             [
              0.1111111111111111,
              "#46039f"
             ],
             [
              0.2222222222222222,
              "#7201a8"
             ],
             [
              0.3333333333333333,
              "#9c179e"
             ],
             [
              0.4444444444444444,
              "#bd3786"
             ],
             [
              0.5555555555555556,
              "#d8576b"
             ],
             [
              0.6666666666666666,
              "#ed7953"
             ],
             [
              0.7777777777777778,
              "#fb9f3a"
             ],
             [
              0.8888888888888888,
              "#fdca26"
             ],
             [
              1,
              "#f0f921"
             ]
            ],
            "type": "histogram2d"
           }
          ],
          "histogram2dcontour": [
           {
            "colorbar": {
             "outlinewidth": 0,
             "ticks": ""
            },
            "colorscale": [
             [
              0,
              "#0d0887"
             ],
             [
              0.1111111111111111,
              "#46039f"
             ],
             [
              0.2222222222222222,
              "#7201a8"
             ],
             [
              0.3333333333333333,
              "#9c179e"
             ],
             [
              0.4444444444444444,
              "#bd3786"
             ],
             [
              0.5555555555555556,
              "#d8576b"
             ],
             [
              0.6666666666666666,
              "#ed7953"
             ],
             [
              0.7777777777777778,
              "#fb9f3a"
             ],
             [
              0.8888888888888888,
              "#fdca26"
             ],
             [
              1,
              "#f0f921"
             ]
            ],
            "type": "histogram2dcontour"
           }
          ],
          "mesh3d": [
           {
            "colorbar": {
             "outlinewidth": 0,
             "ticks": ""
            },
            "type": "mesh3d"
           }
          ],
          "parcoords": [
           {
            "line": {
             "colorbar": {
              "outlinewidth": 0,
              "ticks": ""
             }
            },
            "type": "parcoords"
           }
          ],
          "pie": [
           {
            "automargin": true,
            "type": "pie"
           }
          ],
          "scatter": [
           {
            "fillpattern": {
             "fillmode": "overlay",
             "size": 10,
             "solidity": 0.2
            },
            "type": "scatter"
           }
          ],
          "scatter3d": [
           {
            "line": {
             "colorbar": {
              "outlinewidth": 0,
              "ticks": ""
             }
            },
            "marker": {
             "colorbar": {
              "outlinewidth": 0,
              "ticks": ""
             }
            },
            "type": "scatter3d"
           }
          ],
          "scattercarpet": [
           {
            "marker": {
             "colorbar": {
              "outlinewidth": 0,
              "ticks": ""
             }
            },
            "type": "scattercarpet"
           }
          ],
          "scattergeo": [
           {
            "marker": {
             "colorbar": {
              "outlinewidth": 0,
              "ticks": ""
             }
            },
            "type": "scattergeo"
           }
          ],
          "scattergl": [
           {
            "marker": {
             "colorbar": {
              "outlinewidth": 0,
              "ticks": ""
             }
            },
            "type": "scattergl"
           }
          ],
          "scattermapbox": [
           {
            "marker": {
             "colorbar": {
              "outlinewidth": 0,
              "ticks": ""
             }
            },
            "type": "scattermapbox"
           }
          ],
          "scatterpolar": [
           {
            "marker": {
             "colorbar": {
              "outlinewidth": 0,
              "ticks": ""
             }
            },
            "type": "scatterpolar"
           }
          ],
          "scatterpolargl": [
           {
            "marker": {
             "colorbar": {
              "outlinewidth": 0,
              "ticks": ""
             }
            },
            "type": "scatterpolargl"
           }
          ],
          "scatterternary": [
           {
            "marker": {
             "colorbar": {
              "outlinewidth": 0,
              "ticks": ""
             }
            },
            "type": "scatterternary"
           }
          ],
          "surface": [
           {
            "colorbar": {
             "outlinewidth": 0,
             "ticks": ""
            },
            "colorscale": [
             [
              0,
              "#0d0887"
             ],
             [
              0.1111111111111111,
              "#46039f"
             ],
             [
              0.2222222222222222,
              "#7201a8"
             ],
             [
              0.3333333333333333,
              "#9c179e"
             ],
             [
              0.4444444444444444,
              "#bd3786"
             ],
             [
              0.5555555555555556,
              "#d8576b"
             ],
             [
              0.6666666666666666,
              "#ed7953"
             ],
             [
              0.7777777777777778,
              "#fb9f3a"
             ],
             [
              0.8888888888888888,
              "#fdca26"
             ],
             [
              1,
              "#f0f921"
             ]
            ],
            "type": "surface"
           }
          ],
          "table": [
           {
            "cells": {
             "fill": {
              "color": "#EBF0F8"
             },
             "line": {
              "color": "white"
             }
            },
            "header": {
             "fill": {
              "color": "#C8D4E3"
             },
             "line": {
              "color": "white"
             }
            },
            "type": "table"
           }
          ]
         },
         "layout": {
          "annotationdefaults": {
           "arrowcolor": "#2a3f5f",
           "arrowhead": 0,
           "arrowwidth": 1
          },
          "autotypenumbers": "strict",
          "coloraxis": {
           "colorbar": {
            "outlinewidth": 0,
            "ticks": ""
           }
          },
          "colorscale": {
           "diverging": [
            [
             0,
             "#8e0152"
            ],
            [
             0.1,
             "#c51b7d"
            ],
            [
             0.2,
             "#de77ae"
            ],
            [
             0.3,
             "#f1b6da"
            ],
            [
             0.4,
             "#fde0ef"
            ],
            [
             0.5,
             "#f7f7f7"
            ],
            [
             0.6,
             "#e6f5d0"
            ],
            [
             0.7,
             "#b8e186"
            ],
            [
             0.8,
             "#7fbc41"
            ],
            [
             0.9,
             "#4d9221"
            ],
            [
             1,
             "#276419"
            ]
           ],
           "sequential": [
            [
             0,
             "#0d0887"
            ],
            [
             0.1111111111111111,
             "#46039f"
            ],
            [
             0.2222222222222222,
             "#7201a8"
            ],
            [
             0.3333333333333333,
             "#9c179e"
            ],
            [
             0.4444444444444444,
             "#bd3786"
            ],
            [
             0.5555555555555556,
             "#d8576b"
            ],
            [
             0.6666666666666666,
             "#ed7953"
            ],
            [
             0.7777777777777778,
             "#fb9f3a"
            ],
            [
             0.8888888888888888,
             "#fdca26"
            ],
            [
             1,
             "#f0f921"
            ]
           ],
           "sequentialminus": [
            [
             0,
             "#0d0887"
            ],
            [
             0.1111111111111111,
             "#46039f"
            ],
            [
             0.2222222222222222,
             "#7201a8"
            ],
            [
             0.3333333333333333,
             "#9c179e"
            ],
            [
             0.4444444444444444,
             "#bd3786"
            ],
            [
             0.5555555555555556,
             "#d8576b"
            ],
            [
             0.6666666666666666,
             "#ed7953"
            ],
            [
             0.7777777777777778,
             "#fb9f3a"
            ],
            [
             0.8888888888888888,
             "#fdca26"
            ],
            [
             1,
             "#f0f921"
            ]
           ]
          },
          "colorway": [
           "#636efa",
           "#EF553B",
           "#00cc96",
           "#ab63fa",
           "#FFA15A",
           "#19d3f3",
           "#FF6692",
           "#B6E880",
           "#FF97FF",
           "#FECB52"
          ],
          "font": {
           "color": "#2a3f5f"
          },
          "geo": {
           "bgcolor": "white",
           "lakecolor": "white",
           "landcolor": "#E5ECF6",
           "showlakes": true,
           "showland": true,
           "subunitcolor": "white"
          },
          "hoverlabel": {
           "align": "left"
          },
          "hovermode": "closest",
          "mapbox": {
           "style": "light"
          },
          "paper_bgcolor": "white",
          "plot_bgcolor": "#E5ECF6",
          "polar": {
           "angularaxis": {
            "gridcolor": "white",
            "linecolor": "white",
            "ticks": ""
           },
           "bgcolor": "#E5ECF6",
           "radialaxis": {
            "gridcolor": "white",
            "linecolor": "white",
            "ticks": ""
           }
          },
          "scene": {
           "xaxis": {
            "backgroundcolor": "#E5ECF6",
            "gridcolor": "white",
            "gridwidth": 2,
            "linecolor": "white",
            "showbackground": true,
            "ticks": "",
            "zerolinecolor": "white"
           },
           "yaxis": {
            "backgroundcolor": "#E5ECF6",
            "gridcolor": "white",
            "gridwidth": 2,
            "linecolor": "white",
            "showbackground": true,
            "ticks": "",
            "zerolinecolor": "white"
           },
           "zaxis": {
            "backgroundcolor": "#E5ECF6",
            "gridcolor": "white",
            "gridwidth": 2,
            "linecolor": "white",
            "showbackground": true,
            "ticks": "",
            "zerolinecolor": "white"
           }
          },
          "shapedefaults": {
           "line": {
            "color": "#2a3f5f"
           }
          },
          "ternary": {
           "aaxis": {
            "gridcolor": "white",
            "linecolor": "white",
            "ticks": ""
           },
           "baxis": {
            "gridcolor": "white",
            "linecolor": "white",
            "ticks": ""
           },
           "bgcolor": "#E5ECF6",
           "caxis": {
            "gridcolor": "white",
            "linecolor": "white",
            "ticks": ""
           }
          },
          "title": {
           "x": 0.05
          },
          "xaxis": {
           "automargin": true,
           "gridcolor": "white",
           "linecolor": "white",
           "ticks": "",
           "title": {
            "standoff": 15
           },
           "zerolinecolor": "white",
           "zerolinewidth": 2
          },
          "yaxis": {
           "automargin": true,
           "gridcolor": "white",
           "linecolor": "white",
           "ticks": "",
           "title": {
            "standoff": 15
           },
           "zerolinecolor": "white",
           "zerolinewidth": 2
          }
         }
        },
        "width": 900,
        "xaxis": {
         "anchor": "y",
         "domain": [
          0,
          1
         ],
         "title": {
          "text": "Score"
         }
        },
        "yaxis": {
         "anchor": "x",
         "domain": [
          0,
          1
         ],
         "title": {
          "text": "Probability"
         }
        }
       }
      }
     },
     "metadata": {},
     "output_type": "display_data"
    }
   ],
   "source": [
    "df = compute_ccdf_dataframe(samples[\"Middle\"])\n",
    "\n",
    "fig = px.line(\n",
    "    df, x=\"Score\", y=\"Probability\", color=\"Dice selection\",\n",
    "    markers=True, height=500, width=900\n",
    ")\n",
    "fig.show()"
   ]
  },
  {
   "cell_type": "code",
   "execution_count": 16,
   "metadata": {},
   "outputs": [
    {
     "name": "stdout",
     "output_type": "stream",
     "text": [
      "Roll [6, 6, 4, 3, 3, 3]\n",
      "Conservative choice: [4]\n",
      "Middle choice:       [4, 6]\n"
     ]
    },
    {
     "data": {
      "image/png": "[encoded data removed]",
      "text/plain": [
       "<Figure size 864x576 with 1 Axes>"
      ]
     },
     "metadata": {},
     "output_type": "display_data"
    }
   ],
   "source": [
    "dice = [6, 6, 4, 3, 3, 3]\n",
    "print(\"Roll\", dice)\n",
    "print(\"Conservative choice:\", ConservativeStrategy().play([], dice))\n",
    "print(\"Middle choice:      \", MiddleStrategy().play([], dice))\n",
    "_start_dice_cases = [\n",
    "    (6,), (6, 4)\n",
    "]\n",
    "\n",
    "fig, ax = plt.subplots()\n",
    "\n",
    "for start_dice in _start_dice_cases:\n",
    "    sample = samples[\"Middle\"][start_dice]\n",
    "    (\n",
    "        sample.value_counts(normalize=True)\n",
    "        .sort_index(ascending=False)\n",
    "        .drop(0, errors=\"ignore\")\n",
    "        .cumsum()\n",
    "        .plot(\n",
    "            marker=\"o\",\n",
    "            xlabel=\"Score\",\n",
    "            ylabel=\"Tie or win probability\",\n",
    "            label=str(start_dice),\n",
    "            ax=ax\n",
    "        )\n",
    "    )\n",
    "ax.legend()\n",
    "plt.show()"
   ]
  },
  {
   "cell_type": "code",
   "execution_count": 17,
   "metadata": {},
   "outputs": [
    {
     "name": "stdout",
     "output_type": "stream",
     "text": [
      "Roll [6, 4, 1, 3, 3, 3]\n",
      "Conservative choice: [4, 1, 6]\n",
      "Middle choice:       [1, 4, 6]\n"
     ]
    },
    {
     "data": {
      "image/png": "[encoded data removed]",
      "text/plain": [
       "<Figure size 864x576 with 1 Axes>"
      ]
     },
     "metadata": {},
     "output_type": "display_data"
    }
   ],
   "source": [
    "dice = [6, 4, 1, 3, 3, 3]\n",
    "print(\"Roll\", dice)\n",
    "print(\"Conservative choice:\", ConservativeStrategy().play([], dice))\n",
    "print(\"Middle choice:      \", MiddleStrategy().play([], dice))\n",
    "_start_dice_cases = [(6,), (6, 4, 1)]\n",
    "\n",
    "fig, ax = plt.subplots()\n",
    "\n",
    "for start_dice in _start_dice_cases:\n",
    "    sample = samples[\"Middle\"][start_dice]\n",
    "    (\n",
    "        sample.value_counts(normalize=True)\n",
    "        .sort_index(ascending=False)\n",
    "        .drop(0, errors=\"ignore\")\n",
    "        .cumsum()\n",
    "        .plot(\n",
    "            marker=\"o\",\n",
    "            xlabel=\"Score\",\n",
    "            ylabel=\"Tie or win probability\",\n",
    "            label=str(start_dice),\n",
    "            ax=ax\n",
    "        )\n",
    "    )\n",
    "ax.legend()\n",
    "plt.show()"
   ]
  },
  {
   "cell_type": "code",
   "execution_count": 18,
   "metadata": {},
   "outputs": [
    {
     "name": "stdout",
     "output_type": "stream",
     "text": [
      "Roll [6, 6, 4, 3, 3, 3]\n",
      "Conservative choice: [4]\n",
      "Middle choice:       [4, 6]\n"
     ]
    },
    {
     "data": {
      "image/png": "[encoded data removed]",
      "text/plain": [
       "<Figure size 864x576 with 1 Axes>"
      ]
     },
     "metadata": {},
     "output_type": "display_data"
    }
   ],
   "source": [
    "dice = [6, 6, 4, 3, 3, 3]\n",
    "print(\"Roll\", dice)\n",
    "print(\"Conservative choice:\", ConservativeStrategy().play([], dice))\n",
    "print(\"Middle choice:      \", MiddleStrategy().play([], dice))\n",
    "_start_dice_cases = [\n",
    "    #(6,),\n",
    "    (6, 6), (6, 4), (6, 6, 4), (4,)\n",
    "]\n",
    "\n",
    "fig, ax = plt.subplots()\n",
    "\n",
    "for start_dice in _start_dice_cases:\n",
    "    sample = samples[\"Middle\"][start_dice]\n",
    "    (\n",
    "        sample.value_counts(normalize=True)\n",
    "        .sort_index(ascending=False)\n",
    "        .drop(0, errors=\"ignore\")\n",
    "        .cumsum()\n",
    "        .plot(\n",
    "            marker=\"o\",\n",
    "            xlabel=\"Score\",\n",
    "            ylabel=\"Tie or win probability\",\n",
    "            label=str(start_dice),\n",
    "            ax=ax\n",
    "        )\n",
    "    )\n",
    "ax.legend()\n",
    "plt.show()"
   ]
  },
  {
   "cell_type": "code",
   "execution_count": 19,
   "metadata": {},
   "outputs": [
    {
     "name": "stdout",
     "output_type": "stream",
     "text": [
      "Roll [6, 6, 1, 3, 3, 3]\n",
      "Conservative choice: [1]\n",
      "Middle choice:       [1, 6]\n"
     ]
    },
    {
     "data": {
      "image/png": "[encoded data removed]",
      "text/plain": [
       "<Figure size 864x576 with 1 Axes>"
      ]
     },
     "metadata": {},
     "output_type": "display_data"
    }
   ],
   "source": [
    "dice = [6, 6, 1, 3, 3, 3]\n",
    "print(\"Roll\", dice)\n",
    "print(\"Conservative choice:\", ConservativeStrategy().play([], dice))\n",
    "print(\"Middle choice:      \", MiddleStrategy().play([], dice))\n",
    "_start_dice_cases = [\n",
    "    #(6,),\n",
    "    (6, 6, 6), (6, 6), (6,), (6, 6, 6, 1), (6, 6, 1), (6, 1)\n",
    "]\n",
    "\n",
    "fig, ax = plt.subplots()\n",
    "\n",
    "for start_dice in _start_dice_cases:\n",
    "    sample = samples[\"Middle\"][start_dice]\n",
    "    (\n",
    "        sample.value_counts(normalize=True)\n",
    "        .sort_index(ascending=False)\n",
    "        .drop(0, errors=\"ignore\")\n",
    "        .cumsum()\n",
    "        .plot(\n",
    "            marker=\"o\",\n",
    "            xlabel=\"Score\",\n",
    "            ylabel=\"Tie or win probability\",\n",
    "            label=str(start_dice),\n",
    "            ax=ax\n",
    "        )\n",
    "    )\n",
    "ax.legend()\n",
    "plt.show()"
   ]
  },
  {
   "cell_type": "code",
   "execution_count": null,
   "metadata": {},
   "outputs": [],
   "source": []
  }
 ],
 "metadata": {
  "interpreter": {
   "hash": "0db4934f747e0063d98ee20b47d4f8a1f31c4179cc758487cc330c0c2ba6071b"
  },
  "kernelspec": {
   "display_name": "Python 3.9.7 64-bit ('midnight': conda)",
   "language": "python",
   "name": "python3"
  },
  "language_info": {
   "codemirror_mode": {
    "name": "ipython",
    "version": 3
   },
   "file_extension": ".py",
   "mimetype": "text/x-python",
   "name": "python",
   "nbconvert_exporter": "python",
   "pygments_lexer": "ipython3",
   "version": "3.9.7"
  },
  "orig_nbformat": 4
 },
 "nbformat": 4,
 "nbformat_minor": 2
}
