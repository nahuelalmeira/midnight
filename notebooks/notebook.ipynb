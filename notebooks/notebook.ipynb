{
 "cells": [
  {
   "cell_type": "markdown",
   "metadata": {},
   "source": [
    "[![Open In Colab](https://colab.research.google.com/assets/colab-badge.svg)](https://colab.research.google.com/github/nahuelalmeira/midnight/blob/main/notebooks/notebook.ipynb)"
   ]
  },
  {
   "cell_type": "code",
   "execution_count": 14,
   "metadata": {},
   "outputs": [],
   "source": [
    "# If in colab, uncomment next line\n",
    "\n",
    "# !pip install --quiet git+https://github.com/nahuelalmeira/midnight"
   ]
  },
  {
   "cell_type": "markdown",
   "metadata": {},
   "source": [
    "### General Config"
   ]
  },
  {
   "cell_type": "markdown",
   "metadata": {},
   "source": [
    "Standard imports"
   ]
  },
  {
   "cell_type": "code",
   "execution_count": 15,
   "metadata": {},
   "outputs": [],
   "source": [
    "# Graphics\n",
    "import plotly.express as px\n",
    "import matplotlib\n",
    "import matplotlib.pyplot as plt\n",
    "import pandas as pd\n",
    "import seaborn as sns\n",
    "from IPython.display import display\n",
    "\n",
    "sns.set()\n",
    "sns.set_context(\"talk\")\n",
    "matplotlib.rcParams[\"figure.figsize\"] = (12, 8)"
   ]
  },
  {
   "cell_type": "markdown",
   "metadata": {},
   "source": [
    "Module imports"
   ]
  },
  {
   "cell_type": "code",
   "execution_count": 16,
   "metadata": {},
   "outputs": [],
   "source": [
    "from midnight.player import Player\n",
    "from midnight.game import Game\n",
    "from midnight.strategy import (\n",
    "    ConservativeStrategy,\n",
    "    MiddleStrategy,\n",
    "    AlwaysConservativeStrategy,\n",
    "    AlwaysMiddleStrategy,\n",
    ")"
   ]
  },
  {
   "cell_type": "markdown",
   "metadata": {},
   "source": [
    "Auxiliary functions"
   ]
  },
  {
   "cell_type": "code",
   "execution_count": 17,
   "metadata": {},
   "outputs": [],
   "source": [
    "def compute_ccdf_dataframe(samples):\n",
    "    \"\"\"\n",
    "    Compute Complementary Cumulative Distribution Function\n",
    "    and store values in a DataFrame.\n",
    "    \"\"\"\n",
    "    data = {}\n",
    "    for start_dice, sample in samples.items():\n",
    "        ccdf = (\n",
    "            sample.value_counts(normalize=True)\n",
    "            .sort_index(ascending=False)\n",
    "            .drop(0, errors=\"ignore\")\n",
    "            .cumsum()\n",
    "        )\n",
    "        data[str(start_dice)] = ccdf\n",
    "    df = pd.DataFrame(data)\n",
    "    df.index.name = \"Score\"\n",
    "    return df.melt(\n",
    "        value_name=\"Probability\", var_name=\"Dice selection\", ignore_index=False\n",
    "    ).reset_index()"
   ]
  },
  {
   "cell_type": "markdown",
   "metadata": {},
   "source": [
    "### Example"
   ]
  },
  {
   "cell_type": "markdown",
   "metadata": {},
   "source": [
    "The `.show_example` method allows the user to perform a simple simulation and visualize the decisions taken by the strategy. If no parameters are given, the simulation starts by rolling all six dice."
   ]
  },
  {
   "cell_type": "code",
   "execution_count": 18,
   "metadata": {},
   "outputs": [
    {
     "data": {
      "text/html": [
       "<div>\n",
       "<style scoped>\n",
       "    .dataframe tbody tr th:only-of-type {\n",
       "        vertical-align: middle;\n",
       "    }\n",
       "\n",
       "    .dataframe tbody tr th {\n",
       "        vertical-align: top;\n",
       "    }\n",
       "\n",
       "    .dataframe thead th {\n",
       "        text-align: right;\n",
       "    }\n",
       "</style>\n",
       "<table border=\"1\" class=\"dataframe\">\n",
       "  <thead>\n",
       "    <tr style=\"text-align: right;\">\n",
       "      <th></th>\n",
       "      <th>Kept dice</th>\n",
       "      <th>Roll</th>\n",
       "      <th>New dice</th>\n",
       "    </tr>\n",
       "  </thead>\n",
       "  <tbody>\n",
       "    <tr>\n",
       "      <th>0</th>\n",
       "      <td>[]</td>\n",
       "      <td>[1, 6, 1, 3, 5, 4]</td>\n",
       "      <td>[1, 4, 6]</td>\n",
       "    </tr>\n",
       "    <tr>\n",
       "      <th>1</th>\n",
       "      <td>[1, 4, 6]</td>\n",
       "      <td>[1, 6, 3]</td>\n",
       "      <td>[6]</td>\n",
       "    </tr>\n",
       "    <tr>\n",
       "      <th>2</th>\n",
       "      <td>[1, 4, 6, 6]</td>\n",
       "      <td>[6, 6]</td>\n",
       "      <td>[6, 6]</td>\n",
       "    </tr>\n",
       "  </tbody>\n",
       "</table>\n",
       "</div>"
      ],
      "text/plain": [
       "      Kept dice                Roll   New dice\n",
       "0            []  [1, 6, 1, 3, 5, 4]  [1, 4, 6]\n",
       "1     [1, 4, 6]           [1, 6, 3]        [6]\n",
       "2  [1, 4, 6, 6]              [6, 6]     [6, 6]"
      ]
     },
     "execution_count": 18,
     "metadata": {},
     "output_type": "execute_result"
    }
   ],
   "source": [
    "MiddleStrategy().show_example()"
   ]
  },
  {
   "cell_type": "markdown",
   "metadata": {},
   "source": [
    "The simulation can be started in the middle of a play, that is, when the player has already kept some dice."
   ]
  },
  {
   "cell_type": "code",
   "execution_count": 19,
   "metadata": {},
   "outputs": [
    {
     "data": {
      "text/html": [
       "<div>\n",
       "<style scoped>\n",
       "    .dataframe tbody tr th:only-of-type {\n",
       "        vertical-align: middle;\n",
       "    }\n",
       "\n",
       "    .dataframe tbody tr th {\n",
       "        vertical-align: top;\n",
       "    }\n",
       "\n",
       "    .dataframe thead th {\n",
       "        text-align: right;\n",
       "    }\n",
       "</style>\n",
       "<table border=\"1\" class=\"dataframe\">\n",
       "  <thead>\n",
       "    <tr style=\"text-align: right;\">\n",
       "      <th></th>\n",
       "      <th>Kept dice</th>\n",
       "      <th>Roll</th>\n",
       "      <th>New dice</th>\n",
       "    </tr>\n",
       "  </thead>\n",
       "  <tbody>\n",
       "    <tr>\n",
       "      <th>0</th>\n",
       "      <td>[6, 4]</td>\n",
       "      <td>[2, 5, 6, 3]</td>\n",
       "      <td>[6]</td>\n",
       "    </tr>\n",
       "    <tr>\n",
       "      <th>1</th>\n",
       "      <td>[6, 4, 6]</td>\n",
       "      <td>[4, 2, 6]</td>\n",
       "      <td>[6]</td>\n",
       "    </tr>\n",
       "    <tr>\n",
       "      <th>2</th>\n",
       "      <td>[6, 4, 6, 6]</td>\n",
       "      <td>[5, 2]</td>\n",
       "      <td>[5]</td>\n",
       "    </tr>\n",
       "    <tr>\n",
       "      <th>3</th>\n",
       "      <td>[6, 4, 6, 6, 5]</td>\n",
       "      <td>[3]</td>\n",
       "      <td>[3]</td>\n",
       "    </tr>\n",
       "  </tbody>\n",
       "</table>\n",
       "</div>"
      ],
      "text/plain": [
       "         Kept dice          Roll New dice\n",
       "0           [6, 4]  [2, 5, 6, 3]      [6]\n",
       "1        [6, 4, 6]     [4, 2, 6]      [6]\n",
       "2     [6, 4, 6, 6]        [5, 2]      [5]\n",
       "3  [6, 4, 6, 6, 5]           [3]      [3]"
      ]
     },
     "execution_count": 19,
     "metadata": {},
     "output_type": "execute_result"
    }
   ],
   "source": [
    "MiddleStrategy().show_example(start_dice=[6, 4])"
   ]
  },
  {
   "cell_type": "markdown",
   "metadata": {},
   "source": [
    "Also, the first roll can be also defined."
   ]
  },
  {
   "cell_type": "code",
   "execution_count": 20,
   "metadata": {},
   "outputs": [
    {
     "data": {
      "text/html": [
       "<div>\n",
       "<style scoped>\n",
       "    .dataframe tbody tr th:only-of-type {\n",
       "        vertical-align: middle;\n",
       "    }\n",
       "\n",
       "    .dataframe tbody tr th {\n",
       "        vertical-align: top;\n",
       "    }\n",
       "\n",
       "    .dataframe thead th {\n",
       "        text-align: right;\n",
       "    }\n",
       "</style>\n",
       "<table border=\"1\" class=\"dataframe\">\n",
       "  <thead>\n",
       "    <tr style=\"text-align: right;\">\n",
       "      <th></th>\n",
       "      <th>Kept dice</th>\n",
       "      <th>Roll</th>\n",
       "      <th>New dice</th>\n",
       "    </tr>\n",
       "  </thead>\n",
       "  <tbody>\n",
       "    <tr>\n",
       "      <th>0</th>\n",
       "      <td>[]</td>\n",
       "      <td>[1, 2, 3, 4, 4, 6]</td>\n",
       "      <td>[1, 4, 6]</td>\n",
       "    </tr>\n",
       "    <tr>\n",
       "      <th>1</th>\n",
       "      <td>[1, 4, 6]</td>\n",
       "      <td>[4, 2, 5]</td>\n",
       "      <td>[5]</td>\n",
       "    </tr>\n",
       "    <tr>\n",
       "      <th>2</th>\n",
       "      <td>[1, 4, 6, 5]</td>\n",
       "      <td>[5, 3]</td>\n",
       "      <td>[5]</td>\n",
       "    </tr>\n",
       "    <tr>\n",
       "      <th>3</th>\n",
       "      <td>[1, 4, 6, 5, 5]</td>\n",
       "      <td>[3]</td>\n",
       "      <td>[3]</td>\n",
       "    </tr>\n",
       "  </tbody>\n",
       "</table>\n",
       "</div>"
      ],
      "text/plain": [
       "         Kept dice                Roll   New dice\n",
       "0               []  [1, 2, 3, 4, 4, 6]  [1, 4, 6]\n",
       "1        [1, 4, 6]           [4, 2, 5]        [5]\n",
       "2     [1, 4, 6, 5]              [5, 3]        [5]\n",
       "3  [1, 4, 6, 5, 5]                 [3]        [3]"
      ]
     },
     "execution_count": 20,
     "metadata": {},
     "output_type": "execute_result"
    }
   ],
   "source": [
    "MiddleStrategy().show_example(start_roll=[1, 2, 3, 4, 4, 6])"
   ]
  },
  {
   "cell_type": "markdown",
   "metadata": {},
   "source": [
    "Finaly, both parameters can be combined to give more flexibility to the simulation."
   ]
  },
  {
   "cell_type": "code",
   "execution_count": 21,
   "metadata": {},
   "outputs": [
    {
     "data": {
      "text/html": [
       "<div>\n",
       "<style scoped>\n",
       "    .dataframe tbody tr th:only-of-type {\n",
       "        vertical-align: middle;\n",
       "    }\n",
       "\n",
       "    .dataframe tbody tr th {\n",
       "        vertical-align: top;\n",
       "    }\n",
       "\n",
       "    .dataframe thead th {\n",
       "        text-align: right;\n",
       "    }\n",
       "</style>\n",
       "<table border=\"1\" class=\"dataframe\">\n",
       "  <thead>\n",
       "    <tr style=\"text-align: right;\">\n",
       "      <th></th>\n",
       "      <th>Kept dice</th>\n",
       "      <th>Roll</th>\n",
       "      <th>New dice</th>\n",
       "    </tr>\n",
       "  </thead>\n",
       "  <tbody>\n",
       "    <tr>\n",
       "      <th>0</th>\n",
       "      <td>[6, 4]</td>\n",
       "      <td>[1, 2, 3, 4]</td>\n",
       "      <td>[1]</td>\n",
       "    </tr>\n",
       "    <tr>\n",
       "      <th>1</th>\n",
       "      <td>[6, 4, 1]</td>\n",
       "      <td>[6, 6, 2]</td>\n",
       "      <td>[6, 6]</td>\n",
       "    </tr>\n",
       "    <tr>\n",
       "      <th>2</th>\n",
       "      <td>[6, 4, 1, 6, 6]</td>\n",
       "      <td>[5]</td>\n",
       "      <td>[5]</td>\n",
       "    </tr>\n",
       "  </tbody>\n",
       "</table>\n",
       "</div>"
      ],
      "text/plain": [
       "         Kept dice          Roll New dice\n",
       "0           [6, 4]  [1, 2, 3, 4]      [1]\n",
       "1        [6, 4, 1]     [6, 6, 2]   [6, 6]\n",
       "2  [6, 4, 1, 6, 6]           [5]      [5]"
      ]
     },
     "execution_count": 21,
     "metadata": {},
     "output_type": "execute_result"
    }
   ],
   "source": [
    "MiddleStrategy().show_example(start_dice=[6, 4], start_roll=[1, 2, 3, 4])"
   ]
  },
  {
   "cell_type": "markdown",
   "metadata": {},
   "source": [
    "Note that the length of start_dice plus the length of start_roll must be equal to 6, otherwise the method will raise an exception."
   ]
  },
  {
   "cell_type": "code",
   "execution_count": 22,
   "metadata": {},
   "outputs": [],
   "source": [
    "# Uncomment the next line to see the exception message.\n",
    "\n",
    "# MiddleStrategy().show_example(start_dice=[6, 4], start_roll=[1, 2, 4])"
   ]
  },
  {
   "cell_type": "markdown",
   "metadata": {},
   "source": [
    "### Comparison of strategies"
   ]
  },
  {
   "cell_type": "markdown",
   "metadata": {},
   "source": [
    "Basic strategies can be compared by sampling a large number of plays and comparing the scores."
   ]
  },
  {
   "cell_type": "code",
   "execution_count": 23,
   "metadata": {},
   "outputs": [],
   "source": [
    "nsamples = 10000\n",
    "sample_conservative = pd.Series(ConservativeStrategy.sample(nsamples))\n",
    "sample_middle = pd.Series(MiddleStrategy.sample(nsamples))\n",
    "samples = {\"Conservative\": sample_conservative, \"Middle\": sample_middle}"
   ]
  },
  {
   "cell_type": "markdown",
   "metadata": {},
   "source": [
    "One way of performing the comparison is to look at the score probability distribution $p(x)$. For example, the next figre compares the Middle against the Conservative strategies."
   ]
  },
  {
   "cell_type": "code",
   "execution_count": 24,
   "metadata": {},
   "outputs": [
    {
     "data": {
      "image/png": "[encoded data removed]",
      "text/plain": [
       "<Figure size 864x576 with 1 Axes>"
      ]
     },
     "metadata": {},
     "output_type": "display_data"
    }
   ],
   "source": [
    "fig, ax = plt.subplots()\n",
    "ax.set_xlabel(\"Score\")\n",
    "ax.set_ylabel(\"Probability p(x)\")\n",
    "ax.hist(samples.values(), bins=range(0, 25), density=True, label=list(samples.keys()))\n",
    "plt.legend()\n",
    "plt.show()"
   ]
  },
  {
   "cell_type": "markdown",
   "metadata": {},
   "source": [
    "From the graph we see that the Conservative strategy beats the Middle strategy for scores under 21, and the opposite occures for scores higher than this value."
   ]
  },
  {
   "cell_type": "markdown",
   "metadata": {},
   "source": [
    "Other way, perhaps more intuitive, is to look at the score complementary cumulative distribution function (CCDF), defined as\n",
    "\n",
    "$$\n",
    "P(x) = p(X\\geq x) = \\text{Probability of scoring } x \\text{ or more.}\n",
    "$$\n",
    "\n",
    "In other words, $P(x)$ gives the tie or win probability against each score $x$."
   ]
  },
  {
   "cell_type": "markdown",
   "metadata": {},
   "source": [
    "Again, we compare Conservative Vs. Middle"
   ]
  },
  {
   "cell_type": "code",
   "execution_count": 25,
   "metadata": {},
   "outputs": [
    {
     "data": {
      "image/png": "[encoded data removed]",
      "text/plain": [
       "<Figure size 864x576 with 1 Axes>"
      ]
     },
     "metadata": {},
     "output_type": "display_data"
    }
   ],
   "source": [
    "fig, ax = plt.subplots()\n",
    "for name, sample in samples.items():\n",
    "    (\n",
    "        sample.value_counts(normalize=True)\n",
    "        .sort_index(ascending=False)\n",
    "        .drop(0)\n",
    "        .cumsum()\n",
    "        .plot(marker=\"o\", xlabel=\"Score\", ylabel=\"Tie or win probability P(x)\", label=name, ax=ax)\n",
    "    )\n",
    "ax.legend()\n",
    "plt.show()"
   ]
  },
  {
   "cell_type": "markdown",
   "metadata": {},
   "source": [
    "From the CCDF, we can see that the Middle strategy should be chosen against the Conservative one for scores above 19."
   ]
  },
  {
   "cell_type": "markdown",
   "metadata": {},
   "source": [
    "### Full game simulation\n",
    "\n",
    "The package allows to simulate a full game scenario, including bets and players with different strategies"
   ]
  },
  {
   "cell_type": "code",
   "execution_count": 26,
   "metadata": {},
   "outputs": [
    {
     "name": "stdout",
     "output_type": "stream",
     "text": [
      "-----------------\n",
      "Game settings\n",
      "Number of players: 2\n",
      "Number of rounds: 10000\n",
      "Initial stake: 1000\n",
      "-----------------\n",
      "\n",
      "-----------------\n",
      "Game stats\n"
     ]
    },
    {
     "data": {
      "text/html": [
       "<div>\n",
       "<style scoped>\n",
       "    .dataframe tbody tr th:only-of-type {\n",
       "        vertical-align: middle;\n",
       "    }\n",
       "\n",
       "    .dataframe tbody tr th {\n",
       "        vertical-align: top;\n",
       "    }\n",
       "\n",
       "    .dataframe thead th {\n",
       "        text-align: right;\n",
       "    }\n",
       "</style>\n",
       "<table border=\"1\" class=\"dataframe\">\n",
       "  <thead>\n",
       "    <tr style=\"text-align: right;\">\n",
       "      <th></th>\n",
       "      <th>ROUND</th>\n",
       "      <th>POT</th>\n",
       "      <th>WINNER</th>\n",
       "      <th>SCORES</th>\n",
       "    </tr>\n",
       "  </thead>\n",
       "  <tbody>\n",
       "    <tr>\n",
       "      <th>0</th>\n",
       "      <td>0</td>\n",
       "      <td>2</td>\n",
       "      <td>Player2</td>\n",
       "      <td>[18, 22]</td>\n",
       "    </tr>\n",
       "    <tr>\n",
       "      <th>1</th>\n",
       "      <td>1</td>\n",
       "      <td>2</td>\n",
       "      <td>Tie</td>\n",
       "      <td>[19, 19]</td>\n",
       "    </tr>\n",
       "    <tr>\n",
       "      <th>2</th>\n",
       "      <td>2</td>\n",
       "      <td>4</td>\n",
       "      <td>Player1</td>\n",
       "      <td>[21, 20]</td>\n",
       "    </tr>\n",
       "    <tr>\n",
       "      <th>3</th>\n",
       "      <td>3</td>\n",
       "      <td>2</td>\n",
       "      <td>Player1</td>\n",
       "      <td>[22, 21]</td>\n",
       "    </tr>\n",
       "    <tr>\n",
       "      <th>4</th>\n",
       "      <td>4</td>\n",
       "      <td>2</td>\n",
       "      <td>Player1</td>\n",
       "      <td>[23, 17]</td>\n",
       "    </tr>\n",
       "    <tr>\n",
       "      <th>5</th>\n",
       "      <td>5</td>\n",
       "      <td>2</td>\n",
       "      <td>Player1</td>\n",
       "      <td>[18, 16]</td>\n",
       "    </tr>\n",
       "    <tr>\n",
       "      <th>6</th>\n",
       "      <td>6</td>\n",
       "      <td>2</td>\n",
       "      <td>Player2</td>\n",
       "      <td>[15, 24]</td>\n",
       "    </tr>\n",
       "    <tr>\n",
       "      <th>7</th>\n",
       "      <td>7</td>\n",
       "      <td>2</td>\n",
       "      <td>Player2</td>\n",
       "      <td>[14, 18]</td>\n",
       "    </tr>\n",
       "    <tr>\n",
       "      <th>8</th>\n",
       "      <td>8</td>\n",
       "      <td>3</td>\n",
       "      <td>Player2</td>\n",
       "      <td>[0, 23]</td>\n",
       "    </tr>\n",
       "    <tr>\n",
       "      <th>9</th>\n",
       "      <td>9</td>\n",
       "      <td>2</td>\n",
       "      <td>Tie</td>\n",
       "      <td>[20, 20]</td>\n",
       "    </tr>\n",
       "  </tbody>\n",
       "</table>\n",
       "</div>"
      ],
      "text/plain": [
       "   ROUND  POT   WINNER    SCORES\n",
       "0      0    2  Player2  [18, 22]\n",
       "1      1    2      Tie  [19, 19]\n",
       "2      2    4  Player1  [21, 20]\n",
       "3      3    2  Player1  [22, 21]\n",
       "4      4    2  Player1  [23, 17]\n",
       "5      5    2  Player1  [18, 16]\n",
       "6      6    2  Player2  [15, 24]\n",
       "7      7    2  Player2  [14, 18]\n",
       "8      8    3  Player2   [0, 23]\n",
       "9      9    2      Tie  [20, 20]"
      ]
     },
     "metadata": {},
     "output_type": "display_data"
    },
    {
     "name": "stdout",
     "output_type": "stream",
     "text": [
      "-----------------\n",
      "\n",
      "Final relative stakes: [428, -428]\n",
      "\n",
      "-----------------\n",
      "Scores\n"
     ]
    },
    {
     "data": {
      "text/html": [
       "<div>\n",
       "<style scoped>\n",
       "    .dataframe tbody tr th:only-of-type {\n",
       "        vertical-align: middle;\n",
       "    }\n",
       "\n",
       "    .dataframe tbody tr th {\n",
       "        vertical-align: top;\n",
       "    }\n",
       "\n",
       "    .dataframe thead th {\n",
       "        text-align: right;\n",
       "    }\n",
       "</style>\n",
       "<table border=\"1\" class=\"dataframe\">\n",
       "  <thead>\n",
       "    <tr style=\"text-align: right;\">\n",
       "      <th></th>\n",
       "      <th>Player1</th>\n",
       "      <th>Player2</th>\n",
       "    </tr>\n",
       "  </thead>\n",
       "  <tbody>\n",
       "    <tr>\n",
       "      <th>0</th>\n",
       "      <td>18</td>\n",
       "      <td>22</td>\n",
       "    </tr>\n",
       "    <tr>\n",
       "      <th>1</th>\n",
       "      <td>19</td>\n",
       "      <td>19</td>\n",
       "    </tr>\n",
       "    <tr>\n",
       "      <th>2</th>\n",
       "      <td>21</td>\n",
       "      <td>20</td>\n",
       "    </tr>\n",
       "    <tr>\n",
       "      <th>3</th>\n",
       "      <td>22</td>\n",
       "      <td>21</td>\n",
       "    </tr>\n",
       "    <tr>\n",
       "      <th>4</th>\n",
       "      <td>23</td>\n",
       "      <td>17</td>\n",
       "    </tr>\n",
       "  </tbody>\n",
       "</table>\n",
       "</div>"
      ],
      "text/plain": [
       "   Player1  Player2\n",
       "0       18       22\n",
       "1       19       19\n",
       "2       21       20\n",
       "3       22       21\n",
       "4       23       17"
      ]
     },
     "metadata": {},
     "output_type": "display_data"
    },
    {
     "name": "stdout",
     "output_type": "stream",
     "text": [
      "-----------------\n",
      "\n",
      "-----------------\n",
      "Qualification rate per player:\n"
     ]
    },
    {
     "data": {
      "text/plain": [
       "Player1    0.9583\n",
       "Player2    0.9065\n",
       "dtype: float64"
      ]
     },
     "metadata": {},
     "output_type": "display_data"
    },
    {
     "name": "stdout",
     "output_type": "stream",
     "text": [
      "-----------------\n",
      "\n",
      "-----------------\n",
      "Win rate per player:\n"
     ]
    },
    {
     "data": {
      "text/plain": [
       "Player2    0.456\n",
       "Player1    0.447\n",
       "Tie        0.097\n",
       "Name: WINNER, dtype: float64"
      ]
     },
     "metadata": {},
     "output_type": "display_data"
    },
    {
     "name": "stdout",
     "output_type": "stream",
     "text": [
      "-----------------\n",
      "\n"
     ]
    }
   ],
   "source": [
    "n_rounds = 10000\n",
    "n_players = 2\n",
    "initial_stake = 1000\n",
    "\n",
    "print(\"-----------------\")\n",
    "print(\"Game settings\")\n",
    "print(f\"Number of players: {n_players}\")\n",
    "print(f\"Number of rounds: {n_rounds}\")\n",
    "print(f\"Initial stake: {initial_stake}\")\n",
    "print(\"-----------------\")\n",
    "print()\n",
    "\n",
    "Player.reset_counter()\n",
    "game = Game(n_rounds=n_rounds)\n",
    "player1 = Player(\n",
    "    strategy=AlwaysConservativeStrategy(), initial_stake=initial_stake\n",
    ")\n",
    "game.add_player(player1)\n",
    "player2 = Player(\n",
    "    strategy=AlwaysMiddleStrategy(), initial_stake=initial_stake\n",
    ")\n",
    "game.add_player(player2)\n",
    "\n",
    "# Play game\n",
    "game.play()\n",
    "\n",
    "print(\"-----------------\")\n",
    "print(\"Game stats\")\n",
    "stats = game.get_game_stats()\n",
    "display(stats.head(10))\n",
    "print(\"-----------------\")\n",
    "print()\n",
    "print(f\"Final relative stakes: {game.relative_stakes}\")\n",
    "print()\n",
    "\n",
    "print(\"-----------------\")\n",
    "print(\"Scores\")\n",
    "scores = game.get_all_scores()\n",
    "display(scores.head())\n",
    "print(\"-----------------\")\n",
    "print()\n",
    "\n",
    "print(\"-----------------\")\n",
    "print(\"Qualification rate per player:\")\n",
    "display((scores > 0).mean())\n",
    "print(\"-----------------\")\n",
    "print()\n",
    "\n",
    "print(\"-----------------\")\n",
    "print(\"Win rate per player:\")\n",
    "display(stats[\"WINNER\"].value_counts(normalize=True))\n",
    "print(\"-----------------\")\n",
    "print()\n"
   ]
  },
  {
   "cell_type": "markdown",
   "metadata": {},
   "source": [
    "### First roll choice comparison"
   ]
  },
  {
   "cell_type": "code",
   "execution_count": 27,
   "metadata": {},
   "outputs": [],
   "source": [
    "nsamples = int(1e4)\n",
    "samples = {\"Middle\": {}}"
   ]
  },
  {
   "cell_type": "code",
   "execution_count": 59,
   "metadata": {},
   "outputs": [
    {
     "name": "stdout",
     "output_type": "stream",
     "text": [
      "0 (6,)\n",
      "1 (6, 4)\n",
      "2 (6, 4, 1)\n",
      "3 (6, 6)\n",
      "4 (6, 6, 4)\n",
      "5 (6, 6, 6)\n",
      "6 (6, 6, 1)\n",
      "7 (6, 1)\n",
      "8 (6, 6, 6, 1)\n",
      "9 (4,)\n",
      "10 (6, 6, 1, 4, 5)\n"
     ]
    }
   ],
   "source": [
    "start_dice_cases = [\n",
    "    (6,), (6, 4), (6, 4, 1), (6, 6), (6, 6, 4),\n",
    "    (6, 6, 6), (6, 6, 1), (6, 1), (6, 6, 6, 1), (4,),\n",
    "    (6, 6, 1, 4, 5)\n",
    "]\n",
    "for i, start_dice in enumerate(start_dice_cases):\n",
    "    print(i, start_dice)\n",
    "    if start_dice in samples[\"Middle\"]:\n",
    "        continue\n",
    "    samples[\"Middle\"][start_dice] = pd.Series(\n",
    "        MiddleStrategy.sample(nsamples, start_dice=start_dice)\n",
    "    )"
   ]
  },
  {
   "cell_type": "code",
   "execution_count": 36,
   "metadata": {},
   "outputs": [
    {
     "data": {
      "application/vnd.plotly.v1+json": {
       "config": {
        "plotlyServerURL": "https://plot.ly"
       },
       "data": [
        {
         "hovertemplate": "Dice selection=(6,)<br>Score=%{x}<br>Probability=%{y}<extra></extra>",
         "legendgroup": "(6,)",
         "line": {
          "color": "#636efa",
          "dash": "solid"
         },
         "marker": {
          "symbol": "circle"
         },
         "mode": "markers+lines",
         "name": "(6,)",
         "orientation": "v",
         "showlegend": true,
         "type": "scatter",
         "x": [
          9,
          10,
          11,
          12,
          13,
          14,
          15,
          16,
          17,
          18,
          19,
          20,
          21,
          22,
          23,
          24
         ],
         "xaxis": "x",
         "y": [
          0.8160000000000001,
          0.8143,
          0.8122,
          0.8099000000000001,
          0.805,
          0.7947000000000001,
          0.7707,
          0.7438,
          0.7011000000000001,
          0.643,
          0.5508,
          0.4437,
          0.3446,
          0.2239,
          0.111,
          0.0295
         ],
         "yaxis": "y"
        },
        {
         "hovertemplate": "Dice selection=(6, 4)<br>Score=%{x}<br>Probability=%{y}<extra></extra>",
         "legendgroup": "(6, 4)",
         "line": {
          "color": "#EF553B",
          "dash": "solid"
         },
         "marker": {
          "symbol": "circle"
         },
         "mode": "markers+lines",
         "name": "(6, 4)",
         "orientation": "v",
         "showlegend": true,
         "type": "scatter",
         "x": [
          9,
          10,
          11,
          12,
          13,
          14,
          15,
          16,
          17,
          18,
          19,
          20,
          21,
          22,
          23,
          24
         ],
         "xaxis": "x",
         "y": [
          null,
          0.8424999999999998,
          0.8423999999999998,
          0.8420999999999998,
          0.8411999999999998,
          0.8357999999999999,
          0.8277999999999999,
          0.8114999999999999,
          0.7827999999999999,
          0.7332,
          0.6569999999999999,
          0.5550999999999999,
          0.4447,
          0.29159999999999997,
          0.1394,
          0.0373
         ],
         "yaxis": "y"
        },
        {
         "hovertemplate": "Dice selection=(6, 4, 1)<br>Score=%{x}<br>Probability=%{y}<extra></extra>",
         "legendgroup": "(6, 4, 1)",
         "line": {
          "color": "#00cc96",
          "dash": "solid"
         },
         "marker": {
          "symbol": "circle"
         },
         "mode": "markers+lines",
         "name": "(6, 4, 1)",
         "orientation": "v",
         "showlegend": true,
         "type": "scatter",
         "x": [
          9,
          10,
          11,
          12,
          13,
          14,
          15,
          16,
          17,
          18,
          19,
          20,
          21,
          22,
          23,
          24
         ],
         "xaxis": "x",
         "y": [
          null,
          1,
          0.9996,
          0.998,
          0.9944,
          0.9818,
          0.9594,
          0.9174,
          0.8543,
          0.7645,
          0.6475,
          0.5171,
          0.38180000000000003,
          0.2266,
          0.09939999999999999,
          0.0254
         ],
         "yaxis": "y"
        },
        {
         "hovertemplate": "Dice selection=(6, 6)<br>Score=%{x}<br>Probability=%{y}<extra></extra>",
         "legendgroup": "(6, 6)",
         "line": {
          "color": "#ab63fa",
          "dash": "solid"
         },
         "marker": {
          "symbol": "circle"
         },
         "mode": "markers+lines",
         "name": "(6, 6)",
         "orientation": "v",
         "showlegend": true,
         "type": "scatter",
         "x": [
          9,
          10,
          11,
          12,
          13,
          14,
          15,
          16,
          17,
          18,
          19,
          20,
          21,
          22,
          23,
          24
         ],
         "xaxis": "x",
         "y": [
          null,
          null,
          null,
          null,
          null,
          0.6387999999999999,
          0.6323,
          0.6261,
          0.6105,
          0.5890000000000001,
          0.5449,
          0.4685,
          0.39480000000000004,
          0.29810000000000003,
          0.1751,
          0.0661
         ],
         "yaxis": "y"
        },
        {
         "hovertemplate": "Dice selection=(6, 6, 4)<br>Score=%{x}<br>Probability=%{y}<extra></extra>",
         "legendgroup": "(6, 6, 4)",
         "line": {
          "color": "#FFA15A",
          "dash": "solid"
         },
         "marker": {
          "symbol": "circle"
         },
         "mode": "markers+lines",
         "name": "(6, 6, 4)",
         "orientation": "v",
         "showlegend": true,
         "type": "scatter",
         "x": [
          9,
          10,
          11,
          12,
          13,
          14,
          15,
          16,
          17,
          18,
          19,
          20,
          21,
          22,
          23,
          24
         ],
         "xaxis": "x",
         "y": [
          null,
          null,
          null,
          null,
          null,
          0.6653,
          0.6644,
          0.6617,
          0.6556,
          0.6401,
          0.602,
          0.5395,
          0.4707,
          0.349,
          0.193,
          0.0684
         ],
         "yaxis": "y"
        },
        {
         "hovertemplate": "Dice selection=(6, 6, 6)<br>Score=%{x}<br>Probability=%{y}<extra></extra>",
         "legendgroup": "(6, 6, 6)",
         "line": {
          "color": "#19d3f3",
          "dash": "solid"
         },
         "marker": {
          "symbol": "circle"
         },
         "mode": "markers+lines",
         "name": "(6, 6, 6)",
         "orientation": "v",
         "showlegend": true,
         "type": "scatter",
         "x": [
          9,
          10,
          11,
          12,
          13,
          14,
          15,
          16,
          17,
          18,
          19,
          20,
          21,
          22,
          23,
          24
         ],
         "xaxis": "x",
         "y": [
          null,
          null,
          null,
          null,
          null,
          null,
          null,
          null,
          null,
          null,
          0.3719,
          0.3391,
          0.312,
          0.2817,
          0.2132,
          0.113
         ],
         "yaxis": "y"
        },
        {
         "hovertemplate": "Dice selection=(6, 6, 1)<br>Score=%{x}<br>Probability=%{y}<extra></extra>",
         "legendgroup": "(6, 6, 1)",
         "line": {
          "color": "#FF6692",
          "dash": "solid"
         },
         "marker": {
          "symbol": "circle"
         },
         "mode": "markers+lines",
         "name": "(6, 6, 1)",
         "orientation": "v",
         "showlegend": true,
         "type": "scatter",
         "x": [
          9,
          10,
          11,
          12,
          13,
          14,
          15,
          16,
          17,
          18,
          19,
          20,
          21,
          22,
          23,
          24
         ],
         "xaxis": "x",
         "y": [
          null,
          null,
          null,
          null,
          null,
          0.6672999999999999,
          0.6663999999999999,
          0.6618999999999999,
          0.6499999999999999,
          0.6315999999999999,
          0.5913999999999999,
          0.5154,
          0.4305,
          0.3205,
          0.1961,
          0.0741
         ],
         "yaxis": "y"
        },
        {
         "hovertemplate": "Dice selection=(6, 1)<br>Score=%{x}<br>Probability=%{y}<extra></extra>",
         "legendgroup": "(6, 1)",
         "line": {
          "color": "#B6E880",
          "dash": "solid"
         },
         "marker": {
          "symbol": "circle"
         },
         "mode": "markers+lines",
         "name": "(6, 1)",
         "orientation": "v",
         "showlegend": true,
         "type": "scatter",
         "x": [
          9,
          10,
          11,
          12,
          13,
          14,
          15,
          16,
          17,
          18,
          19,
          20,
          21,
          22,
          23,
          24
         ],
         "xaxis": "x",
         "y": [
          null,
          null,
          0.8366,
          0.8365,
          0.8351000000000001,
          0.8306000000000001,
          0.8217000000000001,
          0.8033000000000001,
          0.7690000000000001,
          0.7219000000000001,
          0.6402000000000001,
          0.5308,
          0.4222,
          0.2791,
          0.14400000000000002,
          0.0406
         ],
         "yaxis": "y"
        },
        {
         "hovertemplate": "Dice selection=(6, 6, 6, 1)<br>Score=%{x}<br>Probability=%{y}<extra></extra>",
         "legendgroup": "(6, 6, 6, 1)",
         "line": {
          "color": "#FF97FF",
          "dash": "solid"
         },
         "marker": {
          "symbol": "circle"
         },
         "mode": "markers+lines",
         "name": "(6, 6, 6, 1)",
         "orientation": "v",
         "showlegend": true,
         "type": "scatter",
         "x": [
          9,
          10,
          11,
          12,
          13,
          14,
          15,
          16,
          17,
          18,
          19,
          20,
          21,
          22,
          23,
          24
         ],
         "xaxis": "x",
         "y": [
          null,
          null,
          null,
          null,
          null,
          null,
          null,
          null,
          null,
          null,
          0.42369999999999997,
          0.38889999999999997,
          0.348,
          0.2974,
          0.2388,
          0.1199
         ],
         "yaxis": "y"
        },
        {
         "hovertemplate": "Dice selection=(4,)<br>Score=%{x}<br>Probability=%{y}<extra></extra>",
         "legendgroup": "(4,)",
         "line": {
          "color": "#FECB52",
          "dash": "solid"
         },
         "marker": {
          "symbol": "circle"
         },
         "mode": "markers+lines",
         "name": "(4,)",
         "orientation": "v",
         "showlegend": true,
         "type": "scatter",
         "x": [
          9,
          10,
          11,
          12,
          13,
          14,
          15,
          16,
          17,
          18,
          19,
          20,
          21,
          22,
          23,
          24
         ],
         "xaxis": "x",
         "y": [
          null,
          0.9346999999999999,
          0.9343999999999999,
          0.9319,
          0.9275,
          0.9171,
          0.8955000000000001,
          0.8585,
          0.8044,
          0.7311,
          0.6245999999999999,
          0.5002,
          0.3722,
          0.2173,
          0.0946,
          0.0213
         ],
         "yaxis": "y"
        }
       ],
       "layout": {
        "font": {
         "size": 18
        },
        "height": 600,
        "legend": {
         "title": {
          "text": "Dice selection"
         },
         "tracegroupgap": 0
        },
        "margin": {
         "t": 60
        },
        "template": {
         "data": {
          "bar": [
           {
            "error_x": {
             "color": "#2a3f5f"
            },
            "error_y": {
             "color": "#2a3f5f"
            },
            "marker": {
             "line": {
              "color": "#E5ECF6",
              "width": 0.5
             },
             "pattern": {
              "fillmode": "overlay",
              "size": 10,
              "solidity": 0.2
             }
            },
            "type": "bar"
           }
          ],
          "barpolar": [
           {
            "marker": {
             "line": {
              "color": "#E5ECF6",
              "width": 0.5
             },
             "pattern": {
              "fillmode": "overlay",
              "size": 10,
              "solidity": 0.2
             }
            },
            "type": "barpolar"
           }
          ],
          "carpet": [
           {
            "aaxis": {
             "endlinecolor": "#2a3f5f",
             "gridcolor": "white",
             "linecolor": "white",
             "minorgridcolor": "white",
             "startlinecolor": "#2a3f5f"
            },
            "baxis": {
             "endlinecolor": "#2a3f5f",
             "gridcolor": "white",
             "linecolor": "white",
             "minorgridcolor": "white",
             "startlinecolor": "#2a3f5f"
            },
            "type": "carpet"
           }
          ],
          "choropleth": [
           {
            "colorbar": {
             "outlinewidth": 0,
             "ticks": ""
            },
            "type": "choropleth"
           }
          ],
          "contour": [
           {
            "colorbar": {
             "outlinewidth": 0,
             "ticks": ""
            },
            "colorscale": [
             [
              0,
              "#0d0887"
             ],
             [
              0.1111111111111111,
              "#46039f"
             ],
             [
              0.2222222222222222,
              "#7201a8"
             ],
             [
              0.3333333333333333,
              "#9c179e"
             ],
             [
              0.4444444444444444,
              "#bd3786"
             ],
             [
              0.5555555555555556,
              "#d8576b"
             ],
             [
              0.6666666666666666,
              "#ed7953"
             ],
             [
              0.7777777777777778,
              "#fb9f3a"
             ],
             [
              0.8888888888888888,
              "#fdca26"
             ],
             [
              1,
              "#f0f921"
             ]
            ],
            "type": "contour"
           }
          ],
          "contourcarpet": [
           {
            "colorbar": {
             "outlinewidth": 0,
             "ticks": ""
            },
            "type": "contourcarpet"
           }
          ],
          "heatmap": [
           {
            "colorbar": {
             "outlinewidth": 0,
             "ticks": ""
            },
            "colorscale": [
             [
              0,
              "#0d0887"
             ],
             [
              0.1111111111111111,
              "#46039f"
             ],
             [
              0.2222222222222222,
              "#7201a8"
             ],
             [
              0.3333333333333333,
              "#9c179e"
             ],
             [
              0.4444444444444444,
              "#bd3786"
             ],
             [
              0.5555555555555556,
              "#d8576b"
             ],
             [
              0.6666666666666666,
              "#ed7953"
             ],
             [
              0.7777777777777778,
              "#fb9f3a"
             ],
             [
              0.8888888888888888,
              "#fdca26"
             ],
             [
              1,
              "#f0f921"
             ]
            ],
            "type": "heatmap"
           }
          ],
          "heatmapgl": [
           {
            "colorbar": {
             "outlinewidth": 0,
             "ticks": ""
            },
            "colorscale": [
             [
              0,
              "#0d0887"
             ],
             [
              0.1111111111111111,
              "#46039f"
             ],
             [
              0.2222222222222222,
              "#7201a8"
             ],
             [
              0.3333333333333333,
              "#9c179e"
             ],
             [
              0.4444444444444444,
              "#bd3786"
             ],
             [
              0.5555555555555556,
              "#d8576b"
             ],
             [
              0.6666666666666666,
              "#ed7953"
             ],
             [
              0.7777777777777778,
              "#fb9f3a"
             ],
             [
              0.8888888888888888,
              "#fdca26"
             ],
             [
              1,
              "#f0f921"
             ]
            ],
            "type": "heatmapgl"
           }
          ],
          "histogram": [
           {
            "marker": {
             "pattern": {
              "fillmode": "overlay",
              "size": 10,
              "solidity": 0.2
             }
            },
            "type": "histogram"
           }
          ],
          "histogram2d": [
           {
            "colorbar": {
             "outlinewidth": 0,
             "ticks": ""
            },
            "colorscale": [
             [
              0,
              "#0d0887"
             ],
             [
              0.1111111111111111,
              "#46039f"
             ],
             [
              0.2222222222222222,
              "#7201a8"
             ],
             [
              0.3333333333333333,
              "#9c179e"
             ],
             [
              0.4444444444444444,
              "#bd3786"
             ],
             [
              0.5555555555555556,
              "#d8576b"
             ],
             [
              0.6666666666666666,
              "#ed7953"
             ],
             [
              0.7777777777777778,
              "#fb9f3a"
             ],
             [
              0.8888888888888888,
              "#fdca26"
             ],
             [
              1,
              "#f0f921"
             ]
            ],
            "type": "histogram2d"
           }
          ],
          "histogram2dcontour": [
           {
            "colorbar": {
             "outlinewidth": 0,
             "ticks": ""
            },
            "colorscale": [
             [
              0,
              "#0d0887"
             ],
             [
              0.1111111111111111,
              "#46039f"
             ],
             [
              0.2222222222222222,
              "#7201a8"
             ],
             [
              0.3333333333333333,
              "#9c179e"
             ],
             [
              0.4444444444444444,
              "#bd3786"
             ],
             [
              0.5555555555555556,
              "#d8576b"
             ],
             [
              0.6666666666666666,
              "#ed7953"
             ],
             [
              0.7777777777777778,
              "#fb9f3a"
             ],
             [
              0.8888888888888888,
              "#fdca26"
             ],
             [
              1,
              "#f0f921"
             ]
            ],
            "type": "histogram2dcontour"
           }
          ],
          "mesh3d": [
           {
            "colorbar": {
             "outlinewidth": 0,
             "ticks": ""
            },
            "type": "mesh3d"
           }
          ],
          "parcoords": [
           {
            "line": {
             "colorbar": {
              "outlinewidth": 0,
              "ticks": ""
             }
            },
            "type": "parcoords"
           }
          ],
          "pie": [
           {
            "automargin": true,
            "type": "pie"
           }
          ],
          "scatter": [
           {
            "fillpattern": {
             "fillmode": "overlay",
             "size": 10,
             "solidity": 0.2
            },
            "type": "scatter"
           }
          ],
          "scatter3d": [
           {
            "line": {
             "colorbar": {
              "outlinewidth": 0,
              "ticks": ""
             }
            },
            "marker": {
             "colorbar": {
              "outlinewidth": 0,
              "ticks": ""
             }
            },
            "type": "scatter3d"
           }
          ],
          "scattercarpet": [
           {
            "marker": {
             "colorbar": {
              "outlinewidth": 0,
              "ticks": ""
             }
            },
            "type": "scattercarpet"
           }
          ],
          "scattergeo": [
           {
            "marker": {
             "colorbar": {
              "outlinewidth": 0,
              "ticks": ""
             }
            },
            "type": "scattergeo"
           }
          ],
          "scattergl": [
           {
            "marker": {
             "colorbar": {
              "outlinewidth": 0,
              "ticks": ""
             }
            },
            "type": "scattergl"
           }
          ],
          "scattermapbox": [
           {
            "marker": {
             "colorbar": {
              "outlinewidth": 0,
              "ticks": ""
             }
            },
            "type": "scattermapbox"
           }
          ],
          "scatterpolar": [
           {
            "marker": {
             "colorbar": {
              "outlinewidth": 0,
              "ticks": ""
             }
            },
            "type": "scatterpolar"
           }
          ],
          "scatterpolargl": [
           {
            "marker": {
             "colorbar": {
              "outlinewidth": 0,
              "ticks": ""
             }
            },
            "type": "scatterpolargl"
           }
          ],
          "scatterternary": [
           {
            "marker": {
             "colorbar": {
              "outlinewidth": 0,
              "ticks": ""
             }
            },
            "type": "scatterternary"
           }
          ],
          "surface": [
           {
            "colorbar": {
             "outlinewidth": 0,
             "ticks": ""
            },
            "colorscale": [
             [
              0,
              "#0d0887"
             ],
             [
              0.1111111111111111,
              "#46039f"
             ],
             [
              0.2222222222222222,
              "#7201a8"
             ],
             [
              0.3333333333333333,
              "#9c179e"
             ],
             [
              0.4444444444444444,
              "#bd3786"
             ],
             [
              0.5555555555555556,
              "#d8576b"
             ],
             [
              0.6666666666666666,
              "#ed7953"
             ],
             [
              0.7777777777777778,
              "#fb9f3a"
             ],
             [
              0.8888888888888888,
              "#fdca26"
             ],
             [
              1,
              "#f0f921"
             ]
            ],
            "type": "surface"
           }
          ],
          "table": [
           {
            "cells": {
             "fill": {
              "color": "#EBF0F8"
             },
             "line": {
              "color": "white"
             }
            },
            "header": {
             "fill": {
              "color": "#C8D4E3"
             },
             "line": {
              "color": "white"
             }
            },
            "type": "table"
           }
          ]
         },
         "layout": {
          "annotationdefaults": {
           "arrowcolor": "#2a3f5f",
           "arrowhead": 0,
           "arrowwidth": 1
          },
          "autotypenumbers": "strict",
          "coloraxis": {
           "colorbar": {
            "outlinewidth": 0,
            "ticks": ""
           }
          },
          "colorscale": {
           "diverging": [
            [
             0,
             "#8e0152"
            ],
            [
             0.1,
             "#c51b7d"
            ],
            [
             0.2,
             "#de77ae"
            ],
            [
             0.3,
             "#f1b6da"
            ],
            [
             0.4,
             "#fde0ef"
            ],
            [
             0.5,
             "#f7f7f7"
            ],
            [
             0.6,
             "#e6f5d0"
            ],
            [
             0.7,
             "#b8e186"
            ],
            [
             0.8,
             "#7fbc41"
            ],
            [
             0.9,
             "#4d9221"
            ],
            [
             1,
             "#276419"
            ]
           ],
           "sequential": [
            [
             0,
             "#0d0887"
            ],
            [
             0.1111111111111111,
             "#46039f"
            ],
            [
             0.2222222222222222,
             "#7201a8"
            ],
            [
             0.3333333333333333,
             "#9c179e"
            ],
            [
             0.4444444444444444,
             "#bd3786"
            ],
            [
             0.5555555555555556,
             "#d8576b"
            ],
            [
             0.6666666666666666,
             "#ed7953"
            ],
            [
             0.7777777777777778,
             "#fb9f3a"
            ],
            [
             0.8888888888888888,
             "#fdca26"
            ],
            [
             1,
             "#f0f921"
            ]
           ],
           "sequentialminus": [
            [
             0,
             "#0d0887"
            ],
            [
             0.1111111111111111,
             "#46039f"
            ],
            [
             0.2222222222222222,
             "#7201a8"
            ],
            [
             0.3333333333333333,
             "#9c179e"
            ],
            [
             0.4444444444444444,
             "#bd3786"
            ],
            [
             0.5555555555555556,
             "#d8576b"
            ],
            [
             0.6666666666666666,
             "#ed7953"
            ],
            [
             0.7777777777777778,
             "#fb9f3a"
            ],
            [
             0.8888888888888888,
             "#fdca26"
            ],
            [
             1,
             "#f0f921"
            ]
           ]
          },
          "colorway": [
           "#636efa",
           "#EF553B",
           "#00cc96",
           "#ab63fa",
           "#FFA15A",
           "#19d3f3",
           "#FF6692",
           "#B6E880",
           "#FF97FF",
           "#FECB52"
          ],
          "font": {
           "color": "#2a3f5f"
          },
          "geo": {
           "bgcolor": "white",
           "lakecolor": "white",
           "landcolor": "#E5ECF6",
           "showlakes": true,
           "showland": true,
           "subunitcolor": "white"
          },
          "hoverlabel": {
           "align": "left"
          },
          "hovermode": "closest",
          "mapbox": {
           "style": "light"
          },
          "paper_bgcolor": "white",
          "plot_bgcolor": "#E5ECF6",
          "polar": {
           "angularaxis": {
            "gridcolor": "white",
            "linecolor": "white",
            "ticks": ""
           },
           "bgcolor": "#E5ECF6",
           "radialaxis": {
            "gridcolor": "white",
            "linecolor": "white",
            "ticks": ""
           }
          },
          "scene": {
           "xaxis": {
            "backgroundcolor": "#E5ECF6",
            "gridcolor": "white",
            "gridwidth": 2,
            "linecolor": "white",
            "showbackground": true,
            "ticks": "",
            "zerolinecolor": "white"
           },
           "yaxis": {
            "backgroundcolor": "#E5ECF6",
            "gridcolor": "white",
            "gridwidth": 2,
            "linecolor": "white",
            "showbackground": true,
            "ticks": "",
            "zerolinecolor": "white"
           },
           "zaxis": {
            "backgroundcolor": "#E5ECF6",
            "gridcolor": "white",
            "gridwidth": 2,
            "linecolor": "white",
            "showbackground": true,
            "ticks": "",
            "zerolinecolor": "white"
           }
          },
          "shapedefaults": {
           "line": {
            "color": "#2a3f5f"
           }
          },
          "ternary": {
           "aaxis": {
            "gridcolor": "white",
            "linecolor": "white",
            "ticks": ""
           },
           "baxis": {
            "gridcolor": "white",
            "linecolor": "white",
            "ticks": ""
           },
           "bgcolor": "#E5ECF6",
           "caxis": {
            "gridcolor": "white",
            "linecolor": "white",
            "ticks": ""
           }
          },
          "title": {
           "x": 0.05
          },
          "xaxis": {
           "automargin": true,
           "gridcolor": "white",
           "linecolor": "white",
           "ticks": "",
           "title": {
            "standoff": 15
           },
           "zerolinecolor": "white",
           "zerolinewidth": 2
          },
          "yaxis": {
           "automargin": true,
           "gridcolor": "white",
           "linecolor": "white",
           "ticks": "",
           "title": {
            "standoff": 15
           },
           "zerolinecolor": "white",
           "zerolinewidth": 2
          }
         }
        },
        "width": 1400,
        "xaxis": {
         "anchor": "y",
         "domain": [
          0,
          1
         ],
         "title": {
          "text": "Score"
         }
        },
        "yaxis": {
         "anchor": "x",
         "domain": [
          0,
          1
         ],
         "title": {
          "text": "Tie or win probability"
         }
        }
       }
      }
     },
     "metadata": {},
     "output_type": "display_data"
    }
   ],
   "source": [
    "df = compute_ccdf_dataframe(samples[\"Middle\"])\n",
    "\n",
    "fig = px.line(\n",
    "    df, x=\"Score\", y=\"Probability\", color=\"Dice selection\",\n",
    "    markers=True, height=600, width=1400\n",
    ")\n",
    "fig.update_layout(\n",
    "    font_size=18,\n",
    "    yaxis_title=\"Tie or win probability\"\n",
    ")\n",
    "fig.show()"
   ]
  },
  {
   "cell_type": "markdown",
   "metadata": {},
   "source": [
    "#### Examples"
   ]
  },
  {
   "cell_type": "code",
   "execution_count": 46,
   "metadata": {},
   "outputs": [],
   "source": [
    "def first_roll_example(dice, choices):\n",
    "    print(\"Roll\", dice)\n",
    "    print(\"Conservative choice:\", sorted(ConservativeStrategy().play([], dice)))\n",
    "    print(\"Middle choice:      \", sorted(MiddleStrategy().play([], dice)))\n",
    "    _, ax = plt.subplots()\n",
    "    for start_dice in choices:\n",
    "        sample = samples[\"Middle\"][start_dice]\n",
    "        (\n",
    "            sample.value_counts(normalize=True)\n",
    "            .sort_index(ascending=False)\n",
    "            .drop(0, errors=\"ignore\")\n",
    "            .cumsum()\n",
    "            .plot(\n",
    "                marker=\"o\",\n",
    "                xlabel=\"Score\",\n",
    "                ylabel=\"Tie or win probability\",\n",
    "                label=str(start_dice),\n",
    "                ax=ax\n",
    "            )\n",
    "        )\n",
    "    ax.legend()\n",
    "    plt.show()"
   ]
  },
  {
   "cell_type": "code",
   "execution_count": 53,
   "metadata": {},
   "outputs": [
    {
     "name": "stdout",
     "output_type": "stream",
     "text": [
      "Roll [6, 4, 3, 3, 3, 3]\n",
      "Conservative choice: [4]\n",
      "Middle choice:       [4, 6]\n"
     ]
    },
    {
     "data": {
      "image/png": "[encoded data removed]",
      "text/plain": [
       "<Figure size 864x576 with 1 Axes>"
      ]
     },
     "metadata": {},
     "output_type": "display_data"
    }
   ],
   "source": [
    "dice = [6, 4, 3, 3, 3, 3]\n",
    "choices = [(6,), (6, 4), (4,)]\n",
    "first_roll_example(dice, choices)"
   ]
  },
  {
   "cell_type": "code",
   "execution_count": 54,
   "metadata": {},
   "outputs": [
    {
     "name": "stdout",
     "output_type": "stream",
     "text": [
      "Roll [6, 4, 1, 3, 3, 3]\n",
      "Conservative choice: [1, 4, 6]\n",
      "Middle choice:       [1, 4, 6]\n"
     ]
    },
    {
     "data": {
      "image/png": "[encoded data removed]",
      "text/plain": [
       "<Figure size 864x576 with 1 Axes>"
      ]
     },
     "metadata": {},
     "output_type": "display_data"
    }
   ],
   "source": [
    "dice = [6, 4, 1, 3, 3, 3]\n",
    "choices = [(6,), (6, 4), (6, 4, 1)]\n",
    "first_roll_example(dice, choices)"
   ]
  },
  {
   "cell_type": "code",
   "execution_count": 57,
   "metadata": {},
   "outputs": [
    {
     "name": "stdout",
     "output_type": "stream",
     "text": [
      "Roll [6, 6, 4, 3, 3, 3]\n",
      "Conservative choice: [4]\n",
      "Middle choice:       [4, 6]\n"
     ]
    },
    {
     "data": {
      "image/png": "[encoded data removed]",
      "text/plain": [
       "<Figure size 864x576 with 1 Axes>"
      ]
     },
     "metadata": {},
     "output_type": "display_data"
    }
   ],
   "source": [
    "dice = [6, 6, 4, 3, 3, 3]\n",
    "choices = [(6,), (6, 6), (6, 4), (6, 6, 4), (4,)]\n",
    "first_roll_example(dice, choices)"
   ]
  },
  {
   "cell_type": "code",
   "execution_count": 60,
   "metadata": {},
   "outputs": [
    {
     "name": "stdout",
     "output_type": "stream",
     "text": [
      "Roll [6, 6, 1, 4, 5, 4]\n",
      "Conservative choice: [1, 4, 4, 5, 6, 6]\n",
      "Middle choice:       [1, 4, 4, 5, 6, 6]\n"
     ]
    },
    {
     "data": {
      "image/png": "[encoded data removed]",
      "text/plain": [
       "<Figure size 864x576 with 1 Axes>"
      ]
     },
     "metadata": {},
     "output_type": "display_data"
    }
   ],
   "source": [
    "dice = [6, 6, 1, 4, 5, 4]\n",
    "choices = [(6, 6, 1, 4, 5)]\n",
    "first_roll_example(dice, choices)"
   ]
  },
  {
   "cell_type": "code",
   "execution_count": 61,
   "metadata": {},
   "outputs": [
    {
     "name": "stdout",
     "output_type": "stream",
     "text": [
      "Roll [6, 6, 6, 1, 3, 3]\n",
      "Conservative choice: [1]\n",
      "Middle choice:       [1, 6]\n"
     ]
    },
    {
     "data": {
      "image/png": "[encoded data removed]",
      "text/plain": [
       "<Figure size 864x576 with 1 Axes>"
      ]
     },
     "metadata": {},
     "output_type": "display_data"
    }
   ],
   "source": [
    "dice = [6, 6, 6, 1, 3, 3]\n",
    "choices = [(6,), (6, 6), (6, 1), (6, 6, 1)]\n",
    "first_roll_example(dice, choices)"
   ]
  },
  {
   "cell_type": "code",
   "execution_count": null,
   "metadata": {},
   "outputs": [],
   "source": []
  }
 ],
 "metadata": {
  "interpreter": {
   "hash": "0db4934f747e0063d98ee20b47d4f8a1f31c4179cc758487cc330c0c2ba6071b"
  },
  "kernelspec": {
   "display_name": "Python 3.9.7 64-bit ('midnight': conda)",
   "language": "python",
   "name": "python3"
  },
  "language_info": {
   "codemirror_mode": {
    "name": "ipython",
    "version": 3
   },
   "file_extension": ".py",
   "mimetype": "text/x-python",
   "name": "python",
   "nbconvert_exporter": "python",
   "pygments_lexer": "ipython3",
   "version": "3.9.7"
  },
  "orig_nbformat": 4
 },
 "nbformat": 4,
 "nbformat_minor": 2
}
